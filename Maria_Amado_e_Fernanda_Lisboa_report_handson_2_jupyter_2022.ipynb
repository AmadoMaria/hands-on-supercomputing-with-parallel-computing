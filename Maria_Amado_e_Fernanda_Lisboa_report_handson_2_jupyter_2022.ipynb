{
  "cells": [
    {
      "cell_type": "markdown",
      "metadata": {
        "id": "view-in-github",
        "colab_type": "text"
      },
      "source": [
        "<a href=\"https://colab.research.google.com/github/AmadoMaria/hands-on-supercomputing-with-parallel-computing/blob/master/Maria_Amado_e_Fernanda_Lisboa_report_handson_2_jupyter_2022.ipynb\" target=\"_parent\"><img src=\"https://colab.research.google.com/assets/colab-badge.svg\" alt=\"Open In Colab\"/></a>"
      ]
    },
    {
      "cell_type": "markdown",
      "metadata": {
        "id": "xXATwZ8VxZG7",
        "tags": []
      },
      "source": [
        "# Hands-On 2: Parallelization with OpenMP\n",
        "\n",
        "M. Amado$^1$, F. Lisboa$^1$\n",
        "\n",
        "$^1$ Department of Computer Engenier – University SENAI CIMATEC, Salvador, Bahia, Brazil  "
      ]
    },
    {
      "cell_type": "markdown",
      "metadata": {
        "id": "B5PcGb-Pt0_j"
      },
      "source": [
        "# Abstract"
      ]
    },
    {
      "cell_type": "markdown",
      "metadata": {
        "id": "orxl23v_xqVe"
      },
      "source": [
        "Uma das aplicações do calculo integral é o processamento de imagens, como na aplicação de filtros. A programação paralela pode ser aplicada na execução desses cálculos como uma estratégia de redução do tempo do algoritmo construído. Sendo assim, o objetivo dessa atividade é a utilização dessa ferramenta, por meio da biblioteca OpenMP, visando a redução do tempo de execução de algoritmos que envolvem o cálculo de problemas matemáticos simples (para números pequenos) e demorados para valores maiores em um PC. Nem sempre percebeu-se uma redução significativa ddo tempo de acordo com o aumento do número de threads, o que pode ser atrelado à instabilidade de execução em um PC ou à combinação dos trechos de paralelização no código. Isso leva à conclusão que, dependendo da maneira que é paralelizado, nem sempre o tempo de execução pela quantidade de threads paralelizadas serão inversamente proporcionais, chegando a algumas vezes apresentarem curvas cíclicas ou parabólicas."
      ]
    },
    {
      "cell_type": "markdown",
      "metadata": {
        "id": "dGlWZ-SlQObx"
      },
      "source": [
        "# Introduction"
      ]
    },
    {
      "cell_type": "markdown",
      "metadata": {
        "id": "ngiuqnkbvTdx"
      },
      "source": [
        "O processo de integração retangular de uma função f(x) consiste na representação de f(x) a partir de retângulos que acompanham a curva e obtenção da área de f(x) a partir da soma sucessiva das áreas dos retângulos [1]. Dessa forma, a precisão do cálculo da integral está diretamente relacionada com o número de retângulos utilizados na representação de f(x). Contudo, quanto maior o número de retângulos utiolizados, maior o custo computacional para a execução de um algoritmo capaz de obter o resultado da integral.\n",
        "\n",
        "Assim, a programação paralela pode ser aplicada no cálculo integral como uma estratégia para redução do tempo de execução do algoritmo, sendo uma das alternativas a utilização do OpenMp para paralelização do código.\n",
        "\n",
        "Uma das aplicações dessa abordagem do cálculo integral é o processamento de imagens, que pode envolver a supressão ou extração de conteúdo a apartir da aplicação de filtros, como o Gaussiano ou Laplaciano [2]. Assim, na prática, objetivamos a exploração do código de um processamento de imagens sequencial, identificando quais partes podem ocorrer de forma paralela, para uma melhor otimização.\n",
        "\n",
        "Além dessas aplicações, outro problema que pode ser solucionado mais rápido a partir do paralelismo é verificar se um número é primo. Contudo, nesse caso, o paralelismo vai além de informar se um loop deve ser executado em paralelo.\n",
        "\n",
        "Dessa forma, o objetivo dessa atividade é realizar a aplicação da paralelização do código para a resolução de problemas matemáticos simples (para valores pequenos), utilizando o a biblioteca OpenMP.\n",
        "\n",
        "\n"
      ]
    },
    {
      "cell_type": "markdown",
      "metadata": {
        "id": "qWbtdBgpwXeJ"
      },
      "source": [
        "# Results and Discussion"
      ]
    },
    {
      "cell_type": "markdown",
      "metadata": {
        "id": "56kMBoGq8FSA"
      },
      "source": [
        "### Session 1 - Numerical Integration\n",
        "\n",
        "Nessa sessão trabalhou-se com a paralelização de um código que calcula a integral de 0 a 1 do retângulo, cujo tamanho é passado como entrada na execução do programa.\n",
        "\n",
        "Realizou a paralelização com o uso do reduction e necessitou da redução do número de passos (STEPS).\n",
        "\n",
        "<!-- ```c\n",
        "  #pragma omp paralllel for reduction(+: s)\n",
        "   for (i = 0; i < n; i++)\n",
        "   {\n",
        "      s += f(a + h * (i + 0.5));\n",
        "   }\n",
        "``` -->\n",
        "\n"
      ]
    },
    {
      "cell_type": "markdown",
      "source": [
        "código"
      ],
      "metadata": {
        "id": "wmjnl6I18lxW"
      }
    },
    {
      "cell_type": "code",
      "source": [
        "!sudo apt install libomp-dev"
      ],
      "metadata": {
        "colab": {
          "base_uri": "https://localhost:8080/"
        },
        "id": "6LliQYYV8k9G",
        "outputId": "f159757d-f0da-4970-e7a7-4392cc3fc9f8"
      },
      "execution_count": 1,
      "outputs": [
        {
          "output_type": "stream",
          "name": "stdout",
          "text": [
            "Reading package lists... Done\n",
            "Building dependency tree       \n",
            "Reading state information... Done\n",
            "The following package was automatically installed and is no longer required:\n",
            "  libnvidia-common-460\n",
            "Use 'sudo apt autoremove' to remove it.\n",
            "The following additional packages will be installed:\n",
            "  libomp5\n",
            "Suggested packages:\n",
            "  libomp-doc\n",
            "The following NEW packages will be installed:\n",
            "  libomp-dev libomp5\n",
            "0 upgraded, 2 newly installed, 0 to remove and 20 not upgraded.\n",
            "Need to get 239 kB of archives.\n",
            "After this operation, 804 kB of additional disk space will be used.\n",
            "Get:1 http://archive.ubuntu.com/ubuntu bionic/universe amd64 libomp5 amd64 5.0.1-1 [234 kB]\n",
            "Get:2 http://archive.ubuntu.com/ubuntu bionic/universe amd64 libomp-dev amd64 5.0.1-1 [5,088 B]\n",
            "Fetched 239 kB in 2s (154 kB/s)\n",
            "debconf: unable to initialize frontend: Dialog\n",
            "debconf: (No usable dialog-like program is installed, so the dialog based frontend cannot be used. at /usr/share/perl5/Debconf/FrontEnd/Dialog.pm line 76, <> line 2.)\n",
            "debconf: falling back to frontend: Readline\n",
            "debconf: unable to initialize frontend: Readline\n",
            "debconf: (This frontend requires a controlling tty.)\n",
            "debconf: falling back to frontend: Teletype\n",
            "dpkg-preconfigure: unable to re-open stdin: \n",
            "Selecting previously unselected package libomp5:amd64.\n",
            "(Reading database ... 155676 files and directories currently installed.)\n",
            "Preparing to unpack .../libomp5_5.0.1-1_amd64.deb ...\n",
            "Unpacking libomp5:amd64 (5.0.1-1) ...\n",
            "Selecting previously unselected package libomp-dev.\n",
            "Preparing to unpack .../libomp-dev_5.0.1-1_amd64.deb ...\n",
            "Unpacking libomp-dev (5.0.1-1) ...\n",
            "Setting up libomp5:amd64 (5.0.1-1) ...\n",
            "Setting up libomp-dev (5.0.1-1) ...\n",
            "Processing triggers for libc-bin (2.27-3ubuntu1.5) ...\n"
          ]
        }
      ]
    },
    {
      "cell_type": "code",
      "source": [
        "%%writefile integral.c\n",
        "#include <stdio.h>\n",
        "#include <stdlib.h>\n",
        "#include <math.h>\n",
        "#include <time.h>\n",
        "\n",
        "/* f(x) function from which the integral will be calculated. */\n",
        "double f(double x)\n",
        "{\n",
        " return 100 * x + sin(2 * x * M_PI);\n",
        "}\n",
        "\n",
        "/* Calculates the integral of the function betweens point a and b. */\n",
        "double integral(double a, double b, int n)\n",
        "{\n",
        "   double h, s = 0, result;\n",
        "   int i;\n",
        "\n",
        "   h = (b - a) / n;\n",
        "\n",
        "   #pragma omp paralllel for reduction(+: s)\n",
        "   for (i = 0; i < n; i++)\n",
        "   {\n",
        "      s += f(a + h * (i + 0.5));\n",
        "   }\n",
        "\n",
        "   result = h * s;\n",
        "   return result;\n",
        "}\n",
        "\n",
        "int main(int argc, char *argv[])\n",
        "{\n",
        "   float result;\n",
        "\n",
        "   int steps = atoi(argv[1]);\n",
        "   \n",
        "   #pragma omp critical\n",
        "   result = integral(0, 1, steps);\n",
        "  \n",
        "   printf(\"%f\\n\", result);\n",
        "\n",
        "   return 0;\n",
        "}"
      ],
      "metadata": {
        "id": "NHgP4o3km3v-"
      },
      "execution_count": null,
      "outputs": []
    },
    {
      "cell_type": "code",
      "source": [
        "!gcc integral.c -o integral -fopenmp -lc"
      ],
      "metadata": {
        "id": "N846XKhFm-KJ"
      },
      "execution_count": null,
      "outputs": []
    },
    {
      "cell_type": "markdown",
      "source": [
        "código"
      ],
      "metadata": {
        "id": "htkUl3h1UrWK"
      }
    },
    {
      "cell_type": "code",
      "source": [
        "%%writefile script.sh\n",
        "#!/bin/sh\n",
        "for j in $(seq 1 6)\n",
        "do \n",
        " printf \"threads:$j :\\n\"\n",
        " for i in {1000..10000..1000}\n",
        " do\n",
        "  printf \"$i - \"\n",
        "   OMP_NUM_THREADS=$j\t./integral \"$i\"\n",
        "  done\n",
        "done"
      ],
      "metadata": {
        "colab": {
          "base_uri": "https://localhost:8080/"
        },
        "id": "YkrFjSxFhwsT",
        "outputId": "63561ba8-e554-4c9a-eead-16a1ee4c2234"
      },
      "execution_count": null,
      "outputs": [
        {
          "output_type": "stream",
          "name": "stdout",
          "text": [
            "E: Invalid operation OpenMP\n"
          ]
        }
      ]
    },
    {
      "cell_type": "code",
      "source": [
        "!bash script.sh"
      ],
      "metadata": {
        "id": "HbQFfcYinKFf"
      },
      "execution_count": null,
      "outputs": []
    },
    {
      "cell_type": "markdown",
      "source": [
        "### Session 2 - Image Processing\n",
        "\n",
        "Nessa etapa trabalhou-se com um código que realiza a aplicação de um filtro em uma imagem através de convolução.\n",
        "A análise dos loops que realização as multiplicações de matrizes pertinentes à imagem mostrou:\n",
        "\n",
        "\n",
        "*   A interdependência dos laços;\n",
        "*   \n",
        "\n",
        "\n",
        "\n",
        "\n"
      ],
      "metadata": {
        "id": "zfRPqQP1x5Wt"
      }
    },
    {
      "cell_type": "code",
      "source": [
        "%%writefile image.c\n",
        "#include <stdio.h>\n",
        "#include <string.h>\n",
        "#include <stdlib.h>\n",
        "#include <omp.h>\n",
        "#define max(a, b) ((a) > (b) ? (a) : (b))\n",
        "#define min(a, b) ((a) < (b) ? (a) : (b))\n",
        "#define MAXCAD 100\n",
        "\n",
        "#define NUM_STEPS 2\n",
        "#define RADIUS 8\n",
        "#define INPUT_IMAGE \"lenna.ppm\"\n",
        "#define OUTPUT_IMAGE \"lenna-fil.ppm\"\n",
        "\n",
        "struct pixel\n",
        "{\n",
        "  unsigned char r, g, b;\n",
        "};\n",
        "\n",
        "int read_ppm_image(char *file_name, struct pixel ***img, int *out_width, int *out_height)\n",
        "{\n",
        "  FILE *fd;\n",
        "  char type[MAXCAD];\n",
        "  int rgb_max, actual_width, actual_height, i, j;\n",
        "\n",
        "  fd = fopen(file_name, \"r\");\n",
        "  if (fd == NULL)\n",
        "  {\n",
        "    printf(\"failed opening file %s\\n\", file_name);\n",
        "    return -1;\n",
        "  }\n",
        "\n",
        "  fscanf(fd, \"%s\", type);\n",
        "  if (strcmp(type, \"P3\") != 0)\n",
        "  {\n",
        "    printf(\"wrong format. P3 format expected\\n\");\n",
        "    return -1;\n",
        "  }\n",
        "\n",
        "  fscanf(fd, \"%d%d\", &actual_width, &actual_height);\n",
        "\n",
        "  if ((*img = (struct pixel **)malloc(sizeof(struct pixel *) * actual_height)) == NULL)\n",
        "  {\n",
        "    printf(\"failed allocating memory for %d rows\\n\", actual_height);\n",
        "    return -1;\n",
        "  }\n",
        "  if (((*img)[0] = (struct pixel *)malloc(sizeof(struct pixel) * actual_width * actual_height)) == NULL)\n",
        "  {\n",
        "    printf(\"failed de locating memory for %d * %d pixels\\n\", actual_width, actual_height);\n",
        "    return -1;\n",
        "  }\n",
        "  for (i = 1; i < actual_height; i++)\n",
        "    (*img)[i] = (*img)[i - 1] + actual_width;\n",
        "\n",
        "  fscanf(fd, \"%d\", &rgb_max);\n",
        "\n",
        "  for (i = 0; i < actual_height; i++)\n",
        "    for (j = 0; j < actual_width; j++)\n",
        "    {\n",
        "      fscanf(fd, \"%hhu\", &((*img)[i][j].r));\n",
        "      fscanf(fd, \"%hhu\", &((*img)[i][j].g));\n",
        "      fscanf(fd, \"%hhu\", &((*img)[i][j].b));\n",
        "    }\n",
        "\n",
        "  *out_width = actual_height;\n",
        "  *out_height = actual_width;\n",
        "\n",
        "  fclose(fd);\n",
        "\n",
        "  return 0;\n",
        "}\n",
        "\n",
        "int write_ppm_image(char *file_name, struct pixel **img, int width, int height)\n",
        "{\n",
        "  FILE *fd;\n",
        "  int rgb_max = 255, i, j;\n",
        "\n",
        "  fd = fopen(file_name, \"w\");\n",
        "  if (fd == NULL)\n",
        "  {\n",
        "    printf(\"failed opening file %s\\n\", file_name);\n",
        "    return -1;\n",
        "  }\n",
        "\n",
        "  fprintf(fd, \"P3\\n\");\n",
        "  fprintf(fd, \"%d %d\\n\", height, width);\n",
        "  fprintf(fd, \"%d\\n\", rgb_max);\n",
        "\n",
        "  for (i = 0; i < width; i++)\n",
        "  {\n",
        "    for (j = 0; j < height; j++)\n",
        "    {\n",
        "      fprintf(fd, \"%d \", img[i][j].r);\n",
        "      fprintf(fd, \"%d \", img[i][j].g);\n",
        "      fprintf(fd, \"%d \", img[i][j].b);\n",
        "    }\n",
        "    fprintf(fd, \"\\n\");\n",
        "  }\n",
        "\n",
        "  fclose(fd);\n",
        "\n",
        "  return 0;\n",
        "}\n",
        "\n",
        "int apply_filter(int steps, int radius, struct pixel **src, struct pixel **dst, int width, int height)\n",
        "{\n",
        "  int i, j, k, l, s, total;\n",
        "\n",
        "  struct\n",
        "  {\n",
        "    int r, g, b;\n",
        "  } result;\n",
        "  int **filter_block, filter_factor;\n",
        "\n",
        "  if ((filter_block = (int **)malloc(sizeof(int *) * (2 * (radius + 1)))) == NULL)\n",
        "  {\n",
        "    printf(\"failed allocating memory for the filter block\\n\");\n",
        "    exit(-1);\n",
        "  }\n",
        "  if ((filter_block[0] = (int *)malloc(sizeof(int) * (2 * (radius + 1)) * (2 * (radius + 1)))) == NULL)\n",
        "  {\n",
        "    printf(\"failed allocating memory for the filter block\\n\");\n",
        "    exit(-1);\n",
        "  }\n",
        "  for (i = 1; i < 2 * (radius + 1); i++)\n",
        "    filter_block[i] = filter_block[i - 1] + 2 * (radius + 1);\n",
        "\n",
        "  for (i = -radius; i <= radius; i++)\n",
        "    for (j = -radius; j <= radius; j++)\n",
        "      filter_block[i + radius][j + radius] = (radius - abs(i)) * (radius - abs(i)) + (radius - abs(j)) * (radius - abs(j)) + 1;\n",
        "\n",
        "  #pragma omp parallel for private(i,k,l) reduction(+: total)\n",
        "  for (s = 0; s < steps; s++)\n",
        "  {\n",
        "    for (i = 0; i < width; i++)\n",
        "    {\n",
        "      for (j = 0; j < height; j++)\n",
        "      {\n",
        "        result.r = 0;\n",
        "        result.g = 0;\n",
        "        result.b = 0;\n",
        "        total = 0;\n",
        "        for (k = max(0, i - radius); k <= min(width - 1, i + radius); k++)\n",
        "        {\n",
        "          for (l = max(0, j - radius); l <= min(height - 1, j + radius); l++)\n",
        "          {\n",
        "            filter_factor = filter_block[k - i + radius][l - j + radius];\n",
        "            result.r += src[k][l].r * filter_factor;\n",
        "            result.g += src[k][l].g * filter_factor;\n",
        "            result.b += src[k][l].b * filter_factor;\n",
        "            total += filter_factor;\n",
        "          }\n",
        "        }\n",
        "        result.r /= total;\n",
        "        result.g /= total;\n",
        "        result.b /= total;\n",
        "        dst[i][j].r = result.r;\n",
        "        dst[i][j].g = result.g;\n",
        "        dst[i][j].b = result.b;\n",
        "      }\n",
        "    }\n",
        "    \n",
        "    if (s + 1 < steps)\n",
        "      memcpy(src[0], dst[0], width * height * sizeof(struct pixel));\n",
        "  }\n",
        "  free(filter_block[0]);\n",
        "  free(filter_block);\n",
        "  return 0;\n",
        "}\n",
        "\n",
        "int main()\n",
        "{\n",
        "  float t1, t2;\n",
        "  int threads;\n",
        "  FILE *fp;\n",
        "\n",
        "  \n",
        "\n",
        "  struct pixel **src_img, **dst_img;\n",
        "  int width, height;\n",
        "  int i, result;\n",
        "\n",
        "  result = read_ppm_image(INPUT_IMAGE, &src_img, &width, &height);\n",
        "\n",
        "  dst_img = (struct pixel **)malloc(width * sizeof(struct pixel *));\n",
        "  dst_img[0] = (struct pixel *)malloc(height * width * sizeof(struct pixel));\n",
        "  for (i = 1; i < width; i++)\n",
        "    dst_img[i] = dst_img[i - 1] + height;\n",
        "\n",
        "  fp = fopen(\"time.txt\", \"a\");\n",
        "  threads = omp_get_max_threads();\n",
        "\n",
        "  t1 = omp_get_wtime();\n",
        "  apply_filter(NUM_STEPS, RADIUS, src_img, dst_img, width, height);\n",
        "  t2 = omp_get_wtime();\n",
        "  printf(\"time execution: %f\\n\", t2-t1);\n",
        "  result = write_ppm_image(OUTPUT_IMAGE, dst_img, width, height);\n",
        "\n",
        "  free(src_img[0]);\n",
        "  free(dst_img[0]);\n",
        "  free(src_img);\n",
        "  free(dst_img);\n",
        "\n",
        "  printf(\"filtered image resolution: %dx%d\\n\", width, height);\n",
        "  fprintf(fp, \"%d\\t%f\\n\", threads, t2-t1);\n",
        "  return 0;\n",
        "}"
      ],
      "metadata": {
        "id": "jxgJy-_Amlu3"
      },
      "execution_count": null,
      "outputs": []
    },
    {
      "cell_type": "code",
      "source": [
        "!gcc image.c -o image -fopenmp\n",
        "!OMP_NUM_THREADS=2 ./image"
      ],
      "metadata": {
        "id": "YJpqAplbmw__"
      },
      "execution_count": null,
      "outputs": []
    },
    {
      "cell_type": "code",
      "source": [
        "%%writefile script.sh\n",
        "#!/bin/sh\n",
        "echo -n \"\" > time.txt\n",
        "for i in $(seq 1 10)\n",
        "    do\n",
        "    printf \"$i - threads\\n\"\n",
        "    OMP_NUM_THREADS=$i\t./image \"$i\"\n",
        "done"
      ],
      "metadata": {
        "id": "SAMxCJH-meQH"
      },
      "execution_count": null,
      "outputs": []
    },
    {
      "cell_type": "markdown",
      "source": [
        "Gráficos obtidos:\n",
        "\n",
        "![10_threads.png](data:image/png;base64,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)\n",
        "\n",
        "**Figura 1**: *1 a 10 threads*\n",
        "\n",
        "\n",
        "\n",
        "\n",
        "![20_threads.png](data:image/png;base64,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)\n",
        "\n",
        "\n",
        "\n",
        "\n",
        "**Figura 2**: *1 a 20 threads*\n",
        "\n",
        "![0_threads.png](data:image/png;base64,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)\n",
        "\n",
        "**Figura 3**: *1 a 30 threads*"
      ],
      "metadata": {
        "id": "dV1RgFDxo5LU"
      }
    },
    {
      "cell_type": "markdown",
      "source": [
        "\n",
        "### Session 3 - Prime Numbers\n",
        "\n",
        "Nessa sessão trabalhou-se com a checagem se um dado número é primo ou não"
      ],
      "metadata": {
        "id": "4-NGyYSIx4GG"
      }
    },
    {
      "cell_type": "markdown",
      "source": [
        "#### Big prime\n",
        "\n",
        "Nesse código realizou-se a paralelização de uma maneira diferente do primeiro código do Hands on 1 sessão 1, e próximo ao que foi feito no Hands On 1 sessão 2.\n",
        "\n",
        "Realizou-se uma divisão da execução das atividades por threads de valor fixo para que realizassem as verificações por parte (pedaço) do maior número inteiro de 8 bits possível. Tendo como base o valor trazido nos exemplos de código, usamos 4 threads fixas para a aplicação do paralelismo nesse código."
      ],
      "metadata": {
        "id": "9c4QDWrRWoxF"
      }
    },
    {
      "cell_type": "code",
      "source": [
        "%%writefile big_prime.c\n",
        "#include <stdio.h>\n",
        "#include <math.h>\n",
        "#include <limits.h>\n",
        "#include <omp.h>\n",
        "\n",
        "typedef unsigned long long big_integer;\n",
        "#define BIGGEST_INTEGER ULLONG_MAX\n",
        "\n",
        "int is_prime(big_integer n)\n",
        "{\n",
        "  int result;\n",
        "  big_integer sq_root, i;\n",
        "\n",
        "  result = (n % 2 != 0 || n == 2);\n",
        "\n",
        "  if (result)\n",
        "  {\n",
        "    sq_root = sqrt(n);\n",
        "    \n",
        "    omp_set_num_threads(4);\n",
        "    #pragma omp parallel private(i)\n",
        "    {\n",
        "      int id = omp_get_thread_num();\n",
        "\n",
        "      if(id == 0)\n",
        "      {\n",
        "        i = 3;\n",
        "        while(result && i <= (big_integer)sq_root/4){\n",
        "          result = n % i != 0;\n",
        "          i += 2;\n",
        "        }\n",
        "      }\n",
        "      if(id == 1)\n",
        "      {\n",
        "        i = (big_integer)sq_root/4;\n",
        "        while(result && i <= 2*sq_root/4){\n",
        "          result = n % i != 0;\n",
        "          i += 2;\n",
        "        }\n",
        "      }\n",
        "      if(id == 2)\n",
        "      {\n",
        "        i = 2*(big_integer)sq_root/4;\n",
        "        while(result && i <= 3*sq_root/4){\n",
        "          result = n % i != 0;\n",
        "          i += 2;\n",
        "        }\n",
        "      }\n",
        "      if(id == 3)\n",
        "      {\n",
        "        i = 3*(big_integer)sq_root/4;\n",
        "        while(result && i <= sq_root){\n",
        "          result = n % i != 0;\n",
        "          i += 2;\n",
        "        }\n",
        "      }\n",
        "    }\n",
        "    \n",
        "    // for (big_integer i = 3; result && i <= sq_root; i += 2)\n",
        "    //   result = n % i != 0;\n",
        "  }\n",
        "\n",
        "  return result;\n",
        "}\n",
        "\n",
        "int main(int argc, char **argv)\n",
        "{\n",
        "  big_integer n;\n",
        "  double t1, t2;\n",
        "  t1 = omp_get_wtime();\n",
        "  for (n = BIGGEST_INTEGER; !is_prime(n); n -= 2)\n",
        "  {\n",
        "  }\n",
        "  t2 = omp_get_wtime();\n",
        "  printf(\"Time execution: %lf\\n\", t2-t1);\n",
        "  printf(\"%llu\\n\", n);\n",
        "\n",
        "  return 0;\n",
        "}"
      ],
      "metadata": {
        "id": "R2VhJqGIUsVI",
        "colab": {
          "base_uri": "https://localhost:8080/"
        },
        "outputId": "41bbb235-be0b-4b2b-b231-14be9d575715"
      },
      "execution_count": 2,
      "outputs": [
        {
          "output_type": "stream",
          "name": "stdout",
          "text": [
            "Writing big_prime.c\n"
          ]
        }
      ]
    },
    {
      "cell_type": "code",
      "source": [
        "!gcc big_prime.c -o big_prime -fopenmp -lm\n",
        "!./big_prime"
      ],
      "metadata": {
        "id": "JG13NVcYWThV",
        "colab": {
          "base_uri": "https://localhost:8080/"
        },
        "outputId": "baba068b-306d-46f6-82b1-a4bd2aab46a7"
      },
      "execution_count": 3,
      "outputs": [
        {
          "output_type": "stream",
          "name": "stdout",
          "text": [
            "Time execution: 13.983013\n",
            "18446744073709551613\n"
          ]
        }
      ]
    },
    {
      "cell_type": "markdown",
      "source": [
        "#### Count Primes\n",
        "\n",
        "Similar ao problema anterior, nesse código trazemos a contagem de números primos existentes entre 3 e o maior inteiro de 8 bits.\n",
        "\n",
        "A paralelização é parecida com a realizada no código anterior, entretanto, ao invés da contagem ser decrescente (como em big_prime), essa é crescente."
      ],
      "metadata": {
        "id": "lVqCXjoDX21E"
      }
    },
    {
      "cell_type": "markdown",
      "source": [
        "código"
      ],
      "metadata": {
        "id": "0MSiEXtyZoVj"
      }
    },
    {
      "cell_type": "code",
      "source": [
        "%%writefile count_primes.c"
      ],
      "metadata": {
        "id": "sbLb5GkbZn9s"
      },
      "execution_count": null,
      "outputs": []
    },
    {
      "cell_type": "code",
      "source": [
        "!gcc count_prime.c -o count_prime -fopenmp -lm\n",
        "!OMP_NUM_THREADS=4 ./count_primes"
      ],
      "metadata": {
        "id": "aHwiLno9Zr5L"
      },
      "execution_count": null,
      "outputs": []
    },
    {
      "cell_type": "code",
      "source": [
        "%%writefile script.sh\n",
        "#!/bin/bash\n",
        "\n",
        "for k in {1..6}\n",
        "do\n",
        " printf \"$k threads: \"\n",
        " OMP_NUM_THREADS=$K ./count_prime\n",
        "done"
      ],
      "metadata": {
        "id": "B7euiVUYZ7-5"
      },
      "execution_count": null,
      "outputs": []
    },
    {
      "cell_type": "code",
      "source": [
        "!bash script.sh"
      ],
      "metadata": {
        "id": "-MlrBcXgafo6"
      },
      "execution_count": null,
      "outputs": []
    },
    {
      "cell_type": "markdown",
      "metadata": {
        "id": "3EkecWU4KKvo"
      },
      "source": [
        "# Conclusions"
      ]
    },
    {
      "cell_type": "markdown",
      "metadata": {
        "id": "EOXpKoRrJ5sm"
      },
      "source": [
        "Foram adicionados alguns trechos de códigos que buscaram paralelizar problemas considerados \"simples\" visando reduzir o tempo de execução. Através disso, percebeu-se instabilidade quanto à quantidade de threads e o tempo de execução dos processos, em que, algumas vezes o mesmo código com os mesmos hiperparâmetros, quando executados mais de uma vez, não obtinham resultados similares. Levantando algumas questões,como: a execução em um PC com paralelização vai conseguir trazer o melhor resultado?. Ademais, a prática foi importante para trabalhar com os conceitos de paralelização e sincronicidade."
      ]
    },
    {
      "cell_type": "markdown",
      "metadata": {
        "id": "qbxAR_nZ3ey8"
      },
      "source": [
        "# References"
      ]
    },
    {
      "cell_type": "markdown",
      "metadata": {
        "id": "eHs1Te143ezA"
      },
      "source": [
        "[1] Coleman, T. G., Mesick, H. C., & Darby, R. L. (1977). Numerical integration. Annals of Biomedical Engineering, 5(4), 322–328. doi:10.1007/bf02367312 \n",
        "\n",
        "[2] He, K., Sun, J., & Tang, X. (2013). Guided Image Filtering. IEEE Transactions on Pattern Analysis and Machine Intelligence, 35(6), 1397–1409. doi:10.1109/tpami.2012.213 "
      ]
    }
  ],
  "metadata": {
    "accelerator": "GPU",
    "colab": {
      "collapsed_sections": [],
      "name": "Maria Amado e Fernanda Lisboa -report-handson-2-jupyter@2022.ipynb",
      "provenance": [],
      "include_colab_link": true
    },
    "kernelspec": {
      "display_name": "Python 3 (ipykernel)",
      "language": "python",
      "name": "python3"
    },
    "language_info": {
      "codemirror_mode": {
        "name": "ipython",
        "version": 3
      },
      "file_extension": ".py",
      "mimetype": "text/x-python",
      "name": "python",
      "nbconvert_exporter": "python",
      "pygments_lexer": "ipython3",
      "version": "3.8.8"
    }
  },
  "nbformat": 4,
  "nbformat_minor": 0
}