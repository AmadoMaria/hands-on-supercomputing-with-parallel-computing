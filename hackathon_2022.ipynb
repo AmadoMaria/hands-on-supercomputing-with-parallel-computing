{
  "cells": [
    {
      "cell_type": "markdown",
      "metadata": {
        "id": "view-in-github",
        "colab_type": "text"
      },
      "source": [
        "<a href=\"https://colab.research.google.com/github/AmadoMaria/hands-on-supercomputing-with-parallel-computing/blob/master/hackathon_2022.ipynb\" target=\"_parent\"><img src=\"https://colab.research.google.com/assets/colab-badge.svg\" alt=\"Open In Colab\"/></a>"
      ]
    },
    {
      "cell_type": "markdown",
      "metadata": {
        "id": "AjiZOjWgXuMF"
      },
      "source": [
        "<div align=\"center\"><h1>HPC / SENAI / Hackathon (2022.2)<br>\n",
        "Brute Force Algorithm </h1></div>\n"
      ]
    },
    {
      "cell_type": "markdown",
      "metadata": {
        "id": "W8CaPlFpm7qz"
      },
      "source": [
        "M. Amado$^1$, F. Lisboa$^1$\n",
        "\n",
        "$^1$ Department of Computer Engenier – University SENAI CIMATEC, Salvador, Bahia, Brazil "
      ]
    },
    {
      "cell_type": "markdown",
      "metadata": {
        "id": "C08qhGoRXuMG"
      },
      "source": [
        "## Introdução"
      ]
    },
    {
      "cell_type": "markdown",
      "metadata": {
        "id": "vb80s3XJXuMH"
      },
      "source": [
        "<div align=\"justify\">\n",
        "<p>\n",
        "As técnicas de paralelismo compreendem em aplicação de estratégias baseadas na utilização de processamento paralelo manipulando diferentes recursos computacionais. Alguma dessas técnicas compreendem a utilização de bibliotecas paralelas como <code>OpenMP</code>, <code>MPI</code> e <code>CUDA</code>. Cada uma dessas bibliotecas consiste na manipulação de recursos computacionais diferentes, podendo ser utilizadas de forma híbrida, a fim da obtenção de máximo desempenho. No OpenMP e CUDA manipulamos <i>Threads</i>, enquanto no MPI, <i>Processos</i>, sendo de real relevância os impactos destas unidades de processamento frente aos recursos computacionais alocados. \n",
        "\n",
        "A seguir será apresentado um código sequencial para a quebra de senha de até 20 caracteres utilizando um algoritmo de <i>Força Bruta</i>. O objetivo básico será inserir técnicas de paralelismo ao código, tal que serão considerados alguns itens nas aplicações finais:\n",
        "\n",
        "</p>\n",
        "\n",
        "\n",
        "* `Análise dos Custos Computacionais das Aplicações Sequênciais e Paralelas`\n",
        "    + Profilling CPU (gprof)\n",
        "    + Profiling GPU (nsys)\n",
        "* `Estudo das Estruturas Algorítmicas das Aplicações Paralelas`\n",
        "    + Modelos Algorítmicos Aplicados\n",
        "    + Características da inserção da API\n",
        "* `Análise de Desempenho`\n",
        "     + Experimentação de Parâmetros Ótimos (Melhores valores de Processos, Threads e Grid Computacional)\n",
        "     + Indices de eficiência (Speedup)\n",
        "\n",
        "\n",
        "</div>"
      ]
    },
    {
      "cell_type": "markdown",
      "metadata": {
        "id": "1bjp3_qfqrYx"
      },
      "source": [
        "<div style=\"justify\">\n",
        "<p>\n",
        "Para a comparação entre as equipes foi fornecida a senha: <code><i>_Hacka1</i></code>.\n",
        "</p>\n",
        "</div>"
      ]
    },
    {
      "cell_type": "markdown",
      "metadata": {
        "id": "iUZx2JpzXuMJ"
      },
      "source": [
        "## Código Sequencial "
      ]
    },
    {
      "cell_type": "code",
      "execution_count": null,
      "metadata": {
        "colab": {
          "base_uri": "https://localhost:8080/"
        },
        "id": "cadzgmZ1XuMJ",
        "outputId": "d7c3e99c-2306-48de-c2ca-84e7d5c6bfd9"
      },
      "outputs": [
        {
          "output_type": "stream",
          "name": "stdout",
          "text": [
            "Writing bruteForce.c\n"
          ]
        }
      ],
      "source": [
        "%%writefile bruteForce.c\n",
        "\n",
        "#include <stdio.h>\n",
        "#include <stdlib.h>\n",
        "#include <string.h>\n",
        "#include <time.h>\n",
        "#include <math.h>\n",
        "\n",
        "//97 to 122 use only lowercase letters\n",
        "//65 to 90 use only capital letters\n",
        "//48 to 57 use only numbers\n",
        "\n",
        "#define START_CHAR 48\n",
        "#define END_CHAR 122\n",
        "#define MAXIMUM_PASSWORD 20\n",
        "\n",
        "long long my_pow(long long x, int y)\n",
        "{\n",
        "  long long res = 1;\n",
        "  if (y==0)\n",
        "    return res;\n",
        "  else\n",
        "    return x * my_pow(x, y-1);\n",
        "}\n",
        "\n",
        "void bruteForce(char *pass) \n",
        "{\n",
        "  char force[MAXIMUM_PASSWORD];\n",
        "  int palavra[MAXIMUM_PASSWORD];\n",
        "  int pass_b26[MAXIMUM_PASSWORD];\n",
        "    \n",
        "  long long int j;\n",
        "  long long int pass_decimal = 0;\n",
        "  int base = END_CHAR - START_CHAR + 2;\n",
        "\n",
        "  int size = strlen(pass);\n",
        "\n",
        "  for(int i = 0; i < MAXIMUM_PASSWORD; i++)\n",
        "    force[i] = '\\0';\n",
        "\n",
        "  printf(\"Try to broke the password: %s\\n\", pass);\n",
        "\n",
        "  for(int i = 0; i < size; i++)\n",
        "    pass_b26[i] = (int) pass[i] - START_CHAR + 1; \n",
        "\n",
        "  for(int i = size - 1; i > -1; i--)\n",
        "    pass_decimal += (long long int) pass_b26[i] * my_pow(base, i);\n",
        "\n",
        "  long long int max = my_pow(base, size);\n",
        "  char s[MAXIMUM_PASSWORD];\n",
        "\n",
        "  for(j = 0; j < max; j++){\n",
        "    if(j == pass_decimal){\n",
        "      printf(\"Found password!\\n\");\n",
        "      int index = 0;\n",
        "\n",
        "      printf(\"Password in decimal base: %lli\\n\", j);\n",
        "      while(j > 0){\n",
        "        s[index++] = START_CHAR + j%base-1;\n",
        "        j /= base;\n",
        "      }\n",
        "      s[index] = '\\0';\n",
        "      printf(\"Found password: %s\\n\", s);\n",
        "      break;\n",
        "    }\n",
        "  }\n",
        "\n",
        "}\n",
        "\n",
        "int main(int argc, char **argv) \n",
        "{\n",
        "  char password[MAXIMUM_PASSWORD];\n",
        "  strcpy(password, argv[1]);\n",
        "  time_t t1, t2;\n",
        "  double dif;\n",
        "\n",
        "  time (&t1);\n",
        "    bruteForce(password);\n",
        "  time (&t2);\n",
        "\n",
        "  dif = difftime (t2, t1);\n",
        "\n",
        "  printf(\"\\n%1.2f seconds\\n\", dif);\n",
        "\n",
        "  return 0;\n",
        "}"
      ]
    },
    {
      "cell_type": "code",
      "execution_count": null,
      "metadata": {
        "id": "n7fnJqMl0ruA"
      },
      "outputs": [],
      "source": [
        "!chmod 777 bruteForce.c"
      ]
    },
    {
      "cell_type": "code",
      "execution_count": null,
      "metadata": {
        "id": "9Apb_D9oXuML"
      },
      "outputs": [],
      "source": [
        "!gcc bruteForce.c -o bruteForce -std=c99 -O3"
      ]
    },
    {
      "cell_type": "code",
      "execution_count": null,
      "metadata": {
        "colab": {
          "base_uri": "https://localhost:8080/"
        },
        "id": "oawTzLm5y5MW",
        "outputId": "b0446100-b012-4da7-fb9e-fbdd3faa8fa6"
      },
      "outputs": [
        {
          "output_type": "stream",
          "name": "stdout",
          "text": [
            "Try to broke the password: zzzzzz\n",
            "Found password!\n",
            "Password in decimal base: 387420488\n",
            "Found password: zzzzzz\n",
            "\n",
            "0.00 seconds\n"
          ]
        }
      ],
      "source": [
        "!./bruteForce zzzzzz"
      ]
    },
    {
      "cell_type": "markdown",
      "metadata": {
        "id": "LsXVY4l-G_dZ"
      },
      "source": [
        "### Análise dos Custos Computacionais da Aplicação Sequencial"
      ]
    },
    {
      "cell_type": "markdown",
      "metadata": {
        "id": "sJEPfg1sY-w3"
      },
      "source": [
        "<div align=\"justify\">\n",
        "<p>\n",
        "A análise dos custos computacionais foi realizada utilizando o <i>GNU Profiler</i>, sendo possível afirmar que a função de <i>bruteForce</i> representa a maior parte do tempo de execução do programa. É possível verificar essa análise a partir dos comandos a seguir.\n",
        "\n",
        "\n",
        "</p>\n",
        "</div>"
      ]
    },
    {
      "cell_type": "code",
      "execution_count": null,
      "metadata": {
        "id": "NZy3z6w4HFLy"
      },
      "outputs": [],
      "source": [
        "!gcc bruteForce.c -o bruteForce -std=c99 -O3 -pg"
      ]
    },
    {
      "cell_type": "code",
      "execution_count": null,
      "metadata": {
        "colab": {
          "base_uri": "https://localhost:8080/"
        },
        "id": "zElsps2THFtG",
        "outputId": "c75632b1-489b-498b-c324-b1f7a00ade6c"
      },
      "outputs": [
        {
          "name": "stdout",
          "output_type": "stream",
          "text": [
            "Try to broke the password: senhatez\n",
            "Found password!\n",
            "Password in decimal base: 274193963128\n",
            "Found password: senhatez\n",
            "\n",
            "94.00 seconds\n"
          ]
        }
      ],
      "source": [
        "!./bruteForce _Hacka1"
      ]
    },
    {
      "cell_type": "code",
      "execution_count": null,
      "metadata": {
        "colab": {
          "base_uri": "https://localhost:8080/"
        },
        "id": "Jl_fHfyFHNYC",
        "outputId": "6942af64-e061-46c1-c982-a5d261f3d6d2"
      },
      "outputs": [
        {
          "name": "stdout",
          "output_type": "stream",
          "text": [
            "Flat profile:\n",
            "\n",
            "Each sample counts as 0.01 seconds.\n",
            "  %   cumulative   self              self     total           \n",
            " time   seconds   seconds    calls  Ts/call  Ts/call  name    \n",
            "100.17     93.59    93.59                             bruteForce\n"
          ]
        }
      ],
      "source": [
        "!gprof -b bruteForce gmon.out"
      ]
    },
    {
      "cell_type": "markdown",
      "metadata": {
        "id": "BX_v0AlHXuMM"
      },
      "source": [
        "---\n",
        "## Estudo das Estruturas Algorítmicas das Aplicações Paralelas"
      ]
    },
    {
      "cell_type": "markdown",
      "metadata": {
        "id": "WIX4B_chXuMM"
      },
      "source": [
        "### Multicore (OpenMP)"
      ]
    },
    {
      "cell_type": "markdown",
      "metadata": {
        "id": "47A0sG11YvSs"
      },
      "source": [
        "<div align=\"justify\">\n",
        "<p>\n",
        "A paralelização do código de força bruta foi realizada utilizando o OpenMP, o qual aplica o paradigma de memória compartilhada. Dessa forma, dentro da função <i>bruteForce</i>, o <i>for</i> responsável por encontrar o valor decimal da senha enviada como parâmetro, e assim, realizar sua quebra, foi paralelizado. Esse bloco de código foi escolhido, uma vez que representa um <i>loop</i> que vai de zero até o valor máximo possível para a senha, ou seja, 27 elevado ao número de caracteres.\n",
        "</p>\n",
        "</div>"
      ]
    },
    {
      "cell_type": "code",
      "execution_count": 18,
      "metadata": {
        "colab": {
          "base_uri": "https://localhost:8080/"
        },
        "id": "5ZI3dBMKXuMM",
        "outputId": "5c69e4dc-b41a-429f-a37e-038875d57377"
      },
      "outputs": [
        {
          "output_type": "stream",
          "name": "stdout",
          "text": [
            "Writing bruteForce-omp.c\n"
          ]
        }
      ],
      "source": [
        "%%writefile bruteForce-omp.c\n",
        "\n",
        "#include <stdio.h>\n",
        "#include <stdlib.h>\n",
        "#include <string.h>\n",
        "#include <time.h>\n",
        "#include <math.h>\n",
        "#include <omp.h>\n",
        "\n",
        "//97 to 122 use only lowercase letters\n",
        "//65 to 90 use only capital letters\n",
        "//48 to 57 use only numbers\n",
        "\n",
        "#define START_CHAR 48\n",
        "#define END_CHAR 122\n",
        "#define MAXIMUM_PASSWORD 20\n",
        "\n",
        "long long my_pow(long long x, int y)\n",
        "{\n",
        "  long long res = 1;\n",
        "  if (y==0)\n",
        "    return res;\n",
        "  else\n",
        "    return x * my_pow(x, y-1);\n",
        "}\n",
        "\n",
        "void bruteForce(char *pass) \n",
        "{\n",
        "  time_t t1, t2;\n",
        "  double dif;\n",
        "  time (&t1);\n",
        "\n",
        "  char force[MAXIMUM_PASSWORD];\n",
        "  int palavra[MAXIMUM_PASSWORD];\n",
        "  int pass_b26[MAXIMUM_PASSWORD];\n",
        "    \n",
        "  long long int j;\n",
        "  long long int pass_decimal = 0;\n",
        "  int base = END_CHAR - START_CHAR + 2;\n",
        "\n",
        "  int size = strlen(pass);\n",
        "\n",
        "  for(int i = 0; i < MAXIMUM_PASSWORD; i++)\n",
        "    force[i] = '\\0';\n",
        "\n",
        "  printf(\"Try to broke the password: %s\\n\", pass);\n",
        "\n",
        "  for(int i = 0; i < size; i++)\n",
        "    pass_b26[i] = (int) pass[i] - START_CHAR + 1; \n",
        "\n",
        "  for(int i = size - 1; i > -1; i--)\n",
        "    pass_decimal += (long long int) pass_b26[i] * my_pow(base, i);\n",
        "\n",
        "  long long int max = my_pow(base, size);\n",
        "  char s[MAXIMUM_PASSWORD];\n",
        "  \n",
        "  // Esse loop é o responsável pela maior parte do custo computacional\n",
        "  #pragma omp parallel for private(j)\n",
        "  for(j = 0; j < max; j++){\n",
        "    if(j == pass_decimal){\n",
        "      printf(\"Found password!\\n\");\n",
        "      int index = 0;\n",
        "\n",
        "      printf(\"Password in decimal base: %lli\\n\", j);\n",
        "      while(j > 0){\n",
        "        s[index++] = START_CHAR + j%base-1;\n",
        "        j /= base;\n",
        "      }\n",
        "      s[index] = '\\0';\n",
        "      printf(\"Found password: %s\\n\", s);\n",
        "      time (&t2);\n",
        "      dif = difftime (t2, t1);\n",
        "\n",
        "      printf(\"\\n%1.2f seconds\\n\", dif);\n",
        "      exit(0); //com esse exit não exibe o tempo\n",
        "    }  \n",
        "  }\n",
        "}\n",
        "\n",
        "int main(int argc, char **argv) \n",
        "{\n",
        "  char password[MAXIMUM_PASSWORD];\n",
        "  strcpy(password, argv[1]);\n",
        "  \n",
        "  bruteForce(password);\n",
        "  \n",
        "  return 0;\n",
        "}"
      ]
    },
    {
      "cell_type": "code",
      "execution_count": 19,
      "metadata": {
        "id": "k8uc5rYo0BxG"
      },
      "outputs": [],
      "source": [
        "!chmod 777 bruteForce-omp.c"
      ]
    },
    {
      "cell_type": "code",
      "execution_count": 20,
      "metadata": {
        "id": "C_OYeGSLXuMN"
      },
      "outputs": [],
      "source": [
        "!gcc bruteForce-omp.c -o bruteForce-omp -fopenmp -std=c99 -O3"
      ]
    },
    {
      "cell_type": "code",
      "execution_count": null,
      "metadata": {
        "colab": {
          "base_uri": "https://localhost:8080/"
        },
        "id": "Q5W52vBjXuMN",
        "outputId": "8773fd90-d445-4e5b-a685-fd1f05ae25b7"
      },
      "outputs": [
        {
          "output_type": "stream",
          "name": "stdout",
          "text": [
            "Try to broke the password: zzzzzzzz\n"
          ]
        }
      ],
      "source": [
        "!OMP_NUM_THREADS=30 ./bruteForce-omp zzzzzzzz"
      ]
    },
    {
      "cell_type": "markdown",
      "metadata": {
        "id": "Vn3AM2CtbSZm"
      },
      "source": [
        "<div align=\"justify\">\n",
        "<p>\n",
        "Como o código OpenMP recebe como parâmetro o número de threads utilizadas na execução, foi necessário identificar a quantidade ótima de threads. Portanto, a quebra da senha <code>_Hacka1</code> foi realizada diversas vezes, com números de threads correspondentes a potências de 2. A partir do código sequêncial, os speedups correspondentes foram cálculados, conforme a Figura 2. Assim, foi possível notar que a melhor execução do programa ocorre com 32 threads, que apresenta um speedup de aproximadamente 4.\n",
        "<p>\n",
        "</div>"
      ]
    },
    {
      "cell_type": "markdown",
      "metadata": {
        "id": "dsIStaUEDcLZ"
      },
      "source": [
        "<div align=\"center\">\n",
        "<img src=\"https://github.com/AmadoMaria/hands-on-supercomputing-with-parallel-computing/blob/master/Hackathon/results__Hacka1/omp_time.png?raw=true\" alt=\"Tempo de execução por threads no OpenMP\" />\n",
        "\n",
        "<i><b>Figura 1</b>: Tempo de execução por threads no OpenMP</i>\n",
        "\n",
        "</div>\n"
      ]
    },
    {
      "cell_type": "markdown",
      "metadata": {
        "id": "ZJSj2PpJeYfi"
      },
      "source": [
        "<div align=\"center\">\n",
        "<img src=\"https://github.com/AmadoMaria/hands-on-supercomputing-with-parallel-computing/blob/master/Hackathon/results__Hacka1/speed_up_omp.png?raw=true\" alt=\"Speedups por threads no OpenMP\" />\n",
        "\n",
        "<i><b>Figura 2</b>: Speedups por threads no OpenMP</i>\n",
        "\n",
        "</div>"
      ]
    },
    {
      "cell_type": "markdown",
      "metadata": {
        "id": "8Tkq8NdaXuMN"
      },
      "source": [
        "### Multiprocessor (MPI)"
      ]
    },
    {
      "cell_type": "markdown",
      "metadata": {
        "id": "OT1qu5nPcCuA"
      },
      "source": [
        "<div align=\"justify\">\n",
        "<p>\n",
        "A paralelização efetuada no código MPI foi pautada na execução da função <i>bruteForce</i> por múltiplos processos, em que cada um deles ficou encarregado de executar um intervalo de valors específico na execução do mesmo <i>loop</i> paralelizado em OpenMP. Assim, cada processo percorreu um intervalo que inicia na variável <i>lower_bound</i> e vai até a variável <i>upper_bound</i>, calculadas dinamicamente de acordo com o número de processos em execução. \n",
        "\n",
        "Para essa implementação, a função <i>bruteForce</i> recebeu como parâmetros, além da senha, o <i>rank</i> do processo e o número total de processos.\n",
        "</p>\n",
        "</div>"
      ]
    },
    {
      "cell_type": "code",
      "execution_count": null,
      "metadata": {
        "colab": {
          "base_uri": "https://localhost:8080/"
        },
        "id": "fFF1ozrclcJx",
        "outputId": "dda4cdf0-b3fb-47b4-cf92-f7a62b9fa76c"
      },
      "outputs": [
        {
          "output_type": "stream",
          "name": "stdout",
          "text": [
            "Writing bruteForce-mpi.c\n"
          ]
        }
      ],
      "source": [
        "%%writefile bruteForce-mpi.c\n",
        "#include <stdio.h>\n",
        "#include <stdlib.h>\n",
        "#include <string.h>\n",
        "#include <time.h>\n",
        "#include <math.h>\n",
        "#include <mpi.h>\n",
        "#include <omp.h>\n",
        "\n",
        "// 97 to 122 use only lowercase letters\n",
        "// 65 to 90 use only capital letters\n",
        "// 48 to 57 use only numbers\n",
        "\n",
        "#define START_CHAR 48\n",
        "#define END_CHAR 122\n",
        "#define MAXIMUM_PASSWORD 20\n",
        "\n",
        "long long my_pow(long long x, int y)\n",
        "{\n",
        "    long long res = 1;\n",
        "    if (y == 0)\n",
        "        return res;\n",
        "    else\n",
        "        return x * my_pow(x, y - 1);\n",
        "}\n",
        "\n",
        "void bruteForce(char *pass, int rank, int numberProcess)\n",
        "{\n",
        "    char force[MAXIMUM_PASSWORD];\n",
        "    int palavra[MAXIMUM_PASSWORD];\n",
        "    int pass_b26[MAXIMUM_PASSWORD];\n",
        "\n",
        "    long long int j;\n",
        "    long long int pass_decimal = 0;\n",
        "    int base = END_CHAR - START_CHAR + 2;\n",
        "\n",
        "    int size = strlen(pass);\n",
        "\n",
        "    for (int i = 0; i < MAXIMUM_PASSWORD; i++)\n",
        "        force[i] = '\\0';\n",
        "\n",
        "    for (int i = 0; i < size; i++)\n",
        "        pass_b26[i] = (int)pass[i] - START_CHAR + 1;\n",
        "\n",
        "    for (int i = size - 1; i > -1; i--)\n",
        "        pass_decimal += (long long int)pass_b26[i] * my_pow(base, i);\n",
        "\n",
        "    long long int max = my_pow(base, size);\n",
        "    char s[MAXIMUM_PASSWORD];\n",
        "\n",
        "    long long partition = ceil(max / numberProcess);\n",
        "    long long int rest = max % numberProcess;\n",
        "    \n",
        "    if (rest != 0){\n",
        "      partition += rest;\n",
        "    }\n",
        "\n",
        "    long long lower_bound = rank * partition;\n",
        "    long long upper_bound = (rank + 1) * partition;\n",
        "    for (j = lower_bound; j < upper_bound; j++)\n",
        "    {\n",
        "        if (j == pass_decimal)\n",
        "        {\n",
        "            printf(\"Found password!\\n\");\n",
        "            int index = 0;\n",
        "\n",
        "            printf(\"Password in decimal base: %lli\\n\", j);\n",
        "            while (j > 0)\n",
        "            {\n",
        "                s[index++] = START_CHAR + j % base - 1;\n",
        "                j /= base;\n",
        "            }\n",
        "            s[index] = '\\0';\n",
        "            printf(\"Found password: %s\\n\", s);\n",
        "            return;\n",
        "        }\n",
        "    }\n",
        "    MPI_Finalize();\n",
        "    exit(0);\n",
        "}\n",
        "\n",
        "int main(int argc, char **argv)\n",
        "{\n",
        "    char password[MAXIMUM_PASSWORD];\n",
        "    strcpy(password, argv[1]);\n",
        "    time_t t1, t2;\n",
        "    double dif;\n",
        "\n",
        "    int numberProcess, rank;\n",
        "    MPI_Init(&argc, &argv);\n",
        "    MPI_Comm_rank(MPI_COMM_WORLD, &rank);\n",
        "    MPI_Comm_size(MPI_COMM_WORLD, &numberProcess);\n",
        "    MPI_Status status;\n",
        "\n",
        "    if (rank == 0)\n",
        "        printf(\"Try to broke the password: %s\\n\", password);\n",
        "\n",
        "    time(&t1);\n",
        "    bruteForce(password, rank, numberProcess);\n",
        "    time(&t2);\n",
        "\n",
        "    dif = difftime(t2, t1);\n",
        "\n",
        "    printf(\"\\n%1.2f seconds\\n\", dif);\n",
        "    MPI_Finalize();\n",
        "    return 0;\n",
        "}"
      ]
    },
    {
      "cell_type": "code",
      "execution_count": null,
      "metadata": {
        "id": "81gPs0KV55RZ"
      },
      "outputs": [],
      "source": [
        "!chmod 777 bruteForce-mpi.c"
      ]
    },
    {
      "cell_type": "code",
      "execution_count": null,
      "metadata": {
        "id": "yXuUGw3oXuMO"
      },
      "outputs": [],
      "source": [
        "!mpicc bruteForce-mpi.c -o bruteForce-mpi -fopenmp -std=c99 -O3"
      ]
    },
    {
      "cell_type": "code",
      "execution_count": null,
      "metadata": {
        "colab": {
          "base_uri": "https://localhost:8080/"
        },
        "id": "pesEM9KvXuMO",
        "outputId": "d1c4e6f9-895e-4177-8597-101734ff5a4c"
      },
      "outputs": [
        {
          "output_type": "stream",
          "name": "stdout",
          "text": [
            "Try to broke the password: zzzzzzz\n",
            "Found password!\n",
            "Password in decimal base: 10460353202\n",
            "Found password: zzzzzzz\n",
            "\n",
            "4.00 seconds\n"
          ]
        }
      ],
      "source": [
        "!mpirun --allow-run-as-root -np 30 ./bruteForce-mpi zzzzzzz"
      ]
    },
    {
      "cell_type": "markdown",
      "metadata": {
        "id": "Yj6eoPTmdXU-"
      },
      "source": [
        "<div align=\"justify\">\n",
        "<p>\n",
        "Para identificar o melhor número de processos para a execução do código MPI, realizou-se um processo semelhante ao OpenMP, sendo que o número de processos foi incrementado de acordo com os múltiplos de 2. Assim, com 30 processos o maior speedup foi alcançado, sendo considerado o parâmetro ótimo para execução.\n",
        "</p>\n",
        "</div>"
      ]
    },
    {
      "cell_type": "markdown",
      "metadata": {
        "id": "y8qPml5RDSbJ"
      },
      "source": [
        "<div align=\"center\">\n",
        "\n",
        "<img src=\"https://github.com/AmadoMaria/hands-on-supercomputing-with-parallel-computing/blob/master/Hackathon/results__Hacka1/mpi_time.png?raw=true\" alt=\"Tempo de execução por processos no MPI\" />\n",
        "\n",
        "<i><b>Figura 3</b>: Tempo de execução por processos no MPI</i>\n",
        "\n",
        "</div>\n",
        "\n",
        "\n"
      ]
    },
    {
      "cell_type": "markdown",
      "metadata": {
        "id": "ntGnKcyzfRl6"
      },
      "source": [
        "<div align=\"center\">\n",
        "<img src=\"https://github.com/AmadoMaria/hands-on-supercomputing-with-parallel-computing/blob/master/Hackathon/results__Hacka1/speed_up_mpi.png?raw=true\" alt=\"Speedups por processos no MPI\" />\n",
        "\n",
        "<i><b>Figura 4</b>: Speedups por processos no MPI</i>\n",
        "\n",
        "</div>\n",
        "\n",
        "\n"
      ]
    },
    {
      "cell_type": "markdown",
      "metadata": {
        "id": "oNMjYFXXXuMP"
      },
      "source": [
        "### Multiprocessor + Multicore (MPI + OpenMP)"
      ]
    },
    {
      "cell_type": "markdown",
      "metadata": {
        "id": "j_QOlbinjUHZ"
      },
      "source": [
        "<div align=\"justify\">\n",
        "<p>\n",
        "O código MPI, onde cada processo é responsável por uma parte do problema, foi incrementado com a paralelização do <i>loop</i> principal, da mesma forma que foi realizada no código OpenMP. Assim, além de cada processo percorrer um intervalo, sua porção do problema conta com otimização proporcionada pelo uso de threads.\n",
        "\n",
        "</p>\n",
        "</div>"
      ]
    },
    {
      "cell_type": "code",
      "execution_count": null,
      "metadata": {
        "colab": {
          "base_uri": "https://localhost:8080/"
        },
        "id": "p2jYxiiaXuMP",
        "outputId": "57c87f3f-629b-4b50-cb7c-2fb14e47d6a9"
      },
      "outputs": [
        {
          "name": "stdout",
          "output_type": "stream",
          "text": [
            "Overwriting bruteForce-mpi+omp.c\n"
          ]
        }
      ],
      "source": [
        "%%writefile bruteForce-mpi+omp.c\n",
        "\n",
        "#include <stdio.h>\n",
        "#include <stdlib.h>\n",
        "#include <string.h>\n",
        "#include <time.h>\n",
        "#include <math.h>\n",
        "#include <mpi.h>\n",
        "\n",
        "//97 to 122 use only lowercase letters\n",
        "//65 to 90 use only capital letters\n",
        "//48 to 57 use only numbers\n",
        "\n",
        "#define START_CHAR 97\n",
        "#define END_CHAR 122\n",
        "#define MAXIMUM_PASSWORD 20\n",
        "\n",
        "long long my_pow(long long x, int y)\n",
        "{\n",
        "  long long res = 1;\n",
        "  if (y==0)\n",
        "    return res;\n",
        "  else\n",
        "    return x * my_pow(x, y-1);\n",
        "}\n",
        "\n",
        "void bruteForce(char *pass, int rank, int numberProcess) \n",
        "{\n",
        "  time_t t1, t2;\n",
        "  double dif;\n",
        "  time (&t1);\n",
        "  \n",
        "  char force[MAXIMUM_PASSWORD];\n",
        "  int palavra[MAXIMUM_PASSWORD];\n",
        "  int pass_b26[MAXIMUM_PASSWORD];\n",
        "    \n",
        "  long long int j;\n",
        "  long long int pass_decimal = 0;\n",
        "  int base = END_CHAR - START_CHAR + 2;\n",
        "\n",
        "  int size = strlen(pass);\n",
        "\n",
        "  for(int i = 0; i < MAXIMUM_PASSWORD; i++)\n",
        "    force[i] = '\\0';\n",
        "\n",
        "  for(int i = 0; i < size; i++)\n",
        "    pass_b26[i] = (int) pass[i] - START_CHAR + 1; \n",
        "\n",
        "  for(int i = size - 1; i > -1; i--)\n",
        "    pass_decimal += (long long int) pass_b26[i] * my_pow(base, i);\n",
        "\n",
        "  long long int max = my_pow(base, size);\n",
        "  char s[MAXIMUM_PASSWORD];\n",
        "\n",
        "  // O problema é dividido de acordo com o número de processos\n",
        "  long long partition = ceil(max / numberProcess);\n",
        "  long long int rest = max % numberProcess;\n",
        "  // verificação se contém resto e se max < numberProcess\n",
        "  if (rest != 0){\n",
        "    partition += rest;\n",
        "  }\n",
        "\n",
        "  // Definindo o intervado de responsabilidade do processo\n",
        "  long long lower_bound = rank * partition;\n",
        "  long long upper_bound = (rank + 1) * partition;\n",
        "\n",
        "  // Paralelização do loop com openmp\n",
        "  #pragma omp parallel for private(j)\n",
        "  for(j = lower_bound; j < upper_bound; j++){\n",
        "      if(j == pass_decimal){\n",
        "        printf(\"Found password!\\n\");\n",
        "        int index = 0;\n",
        "\n",
        "        printf(\"Password in decimal base: %lli\\n\", j);\n",
        "        while(j > 0){\n",
        "          s[index++] = START_CHAR + j%base-1;\n",
        "          j /= base;\n",
        "        }\n",
        "        s[index] = '\\0';\n",
        "        printf(\"Found password: %s\\n\", s);\n",
        "        time (&t2);\n",
        "        dif = difftime (t2, t1);\n",
        "        printf(\"\\n%1.2f seconds\\n\", dif);\n",
        "\n",
        "        // Como a senha foi encotrada os processoas são finalizados\n",
        "        MPI_Abort(MPI_COMM_WORLD, MPI_SUCCESS);\n",
        "      }\n",
        "  }\n",
        "}\n",
        "\n",
        "int main(int argc, char **argv) \n",
        "{\n",
        "  char password[MAXIMUM_PASSWORD];\n",
        "  strcpy(password, argv[1]);\n",
        "\n",
        "  int numberProcess, rank;\n",
        "  MPI_Init(&argc, &argv);\n",
        "  MPI_Comm_rank(MPI_COMM_WORLD, &rank);\n",
        "  MPI_Comm_size(MPI_COMM_WORLD, &numberProcess);\n",
        "  MPI_Status status;\n",
        "    \n",
        "  if(rank==0) // Essa mensagem só é executada uma vez\n",
        "    printf(\"Try to broke the password: %s\\n\", password);\n",
        "    \n",
        "  \n",
        "  bruteForce(password, rank, numberProcess);\n",
        "\n",
        "  return 0;\n",
        "}"
      ]
    },
    {
      "cell_type": "code",
      "execution_count": null,
      "metadata": {
        "id": "mpDCTZJOvt1M"
      },
      "outputs": [],
      "source": [
        "!chmod 777 bruteForce-mpi+omp.c"
      ]
    },
    {
      "cell_type": "code",
      "execution_count": null,
      "metadata": {
        "id": "IT5A71GLXuMP"
      },
      "outputs": [],
      "source": [
        "!mpicc bruteForce-mpi+omp.c -o bruteForce-mpi+omp -fopenmp -std=c99 -O3"
      ]
    },
    {
      "cell_type": "code",
      "execution_count": null,
      "metadata": {
        "colab": {
          "background_save": true,
          "base_uri": "https://localhost:8080/"
        },
        "id": "iuVWulhjDxal",
        "outputId": "e52939ca-8ead-430c-860a-7b586e3ffffa"
      },
      "outputs": [
        {
          "name": "stdout",
          "output_type": "stream",
          "text": [
            "Try to broke the password: zzzzzzzzzz\n"
          ]
        }
      ],
      "source": [
        "!OMP_NUM_THREADS=4 mpirun -x MXM_LOG_LEVEL=error -np 22 --allow-run-as-root ./bruteForce-mpi+omp zzzzzzzzzz"
      ]
    },
    {
      "cell_type": "markdown",
      "metadata": {
        "id": "Y8GYnV6wC_Jw"
      },
      "source": [
        "<div align=\"center\">\n",
        "<img src=\"https://github.com/AmadoMaria/hands-on-supercomputing-with-parallel-computing/blob/master/Hackathon/results__Hacka1/openmpi_time.png?raw=true\" alt=\"Tempo de execução por threads e processos no OpenMPI\" />\n",
        "\n",
        "<i><b>Figura 5</b>: Tempo de execução por threads e processos no OpenMPI</i>\n",
        "\n",
        "</div>\n",
        "\n",
        "<br />\n",
        "<br />\n",
        "\n",
        "<div align=\"justify\">\n",
        "<p>\n",
        "Percebe-se que há uma variação entre a quantidade de processos e threads durante as execuções. Entretanto, visualiza-se uma linearidade na curva de tempo para 16 threads entre o intervalo de processos executados.\n",
        "</p>\n",
        "</div>\n"
      ]
    },
    {
      "cell_type": "markdown",
      "metadata": {
        "id": "yfnc1ncvfZkL"
      },
      "source": [
        "<div align=\"center\">\n",
        "<img src=\"https://github.com/AmadoMaria/hands-on-supercomputing-with-parallel-computing/blob/master/Hackathon/results__Hacka1/speed_up_openmpi.png?raw=true\" alt=\"Speedups por threads e processos no OpenMPI\" />\n",
        "\n",
        "\n",
        "<i><b>Figura 6</b>: Speedups por threads e processos no OpenMPI</i>\n",
        "\n",
        "</div>\n",
        "\n",
        "<br />\n",
        "<br />\n",
        "\n",
        "<div align=\"justify\">\n",
        "<p>\n",
        "Comparando redução e aumento entre os speedups, é nítido que a execução com 4 threads e 28 processos pode ser considerada o melhor valor obtido em relação aos outros, já que logo nas quantidades seguintes de processos, esse cálculo é reduzido, de maneira linear no início. \n",
        "\n",
        "Observando as curvas, também percebe-se um destaque quanto aos maiores speedups obtidos com 4, 8 e 32 threads, para 22, 26 e 30 processos.\n",
        "\n",
        "</p>\n",
        "</div>\n"
      ]
    },
    {
      "cell_type": "markdown",
      "metadata": {
        "id": "catiNczrXuMQ"
      },
      "source": [
        "### GPU (CUDA)"
      ]
    },
    {
      "cell_type": "markdown",
      "metadata": {
        "id": "-5suXADGoIBQ"
      },
      "source": [
        "<div align=\"justify\">\n",
        "<p>\n",
        "O código CUDA, utilizando GPU, se baseia em: \n",
        "\n",
        "\n",
        "*   Transformação da *bruteForce* em função kernel;\n",
        "*   Utilização do conceito *host*-*device*;\n",
        "*   Uso de Grid computacional;\n",
        "*   Uso de *stride* para a distribuição do tamanho da senha de acordo com a quantidade de *threads* máxima disponível por bloco na GPU;\n",
        "*   Cada *thread* acessa um dos valores no *device*;\n",
        "*   Verificação de erros com a utilização da GPU.\n",
        "\n",
        "\n",
        "</p>\n",
        "</div>"
      ]
    },
    {
      "cell_type": "code",
      "execution_count": null,
      "metadata": {
        "colab": {
          "base_uri": "https://localhost:8080/"
        },
        "id": "sS4vvmOkXuMQ",
        "outputId": "5f6f207a-c86d-478b-f190-08a5ae232c86"
      },
      "outputs": [
        {
          "name": "stdout",
          "output_type": "stream",
          "text": [
            "Writing bruteForce-cuda.cu\n"
          ]
        }
      ],
      "source": [
        "%%writefile bruteForce-cuda.cu\n",
        "\n",
        "#include <stdio.h>\n",
        "#include <stdlib.h>\n",
        "#include <string.h>\n",
        "#include <time.h>\n",
        "#include <math.h>\n",
        "#include <assert.h>\n",
        "\n",
        "//97 to 122 use only lowercase letters\n",
        "//65 to 90 use only capital letters\n",
        "//48 to 57 use only numbers\n",
        "\n",
        "#define START_CHAR 48\n",
        "#define END_CHAR 122\n",
        "#define MAXIMUM_PASSWORD 20\n",
        "\n",
        "inline cudaError_t checkCuda(cudaError_t result)\n",
        "{\n",
        "    if (result != cudaSuccess)\n",
        "    {\n",
        "        fprintf(stderr, \"CUDA Runtime Error: %s\\n\", cudaGetErrorString(result));\n",
        "        assert(result == cudaSuccess);\n",
        "    }\n",
        "    return result;\n",
        "}\n",
        "\n",
        "__device__ long long my_pow(long long x, int y)\n",
        "{\n",
        "  long long res = 1;\n",
        "  if (y==0)\n",
        "    return res;\n",
        "  else\n",
        "    return x * my_pow(x, y-1);\n",
        "}\n",
        "\n",
        "\n",
        "__global__ void bruteForce(char *pass, long long size) \n",
        "{\n",
        "  char force[MAXIMUM_PASSWORD];\n",
        "  int palavra[MAXIMUM_PASSWORD];\n",
        "  int pass_b26[MAXIMUM_PASSWORD];\n",
        "    \n",
        "  long long int pass_decimal = 0;\n",
        "  int base = END_CHAR - START_CHAR + 2;\n",
        "\n",
        "  for(int i = 0; i < MAXIMUM_PASSWORD; i++)\n",
        "    force[i] = '\\0';\n",
        "\n",
        "  for(int i = 0; i < size; i++)\n",
        "    pass_b26[i] = (int) pass[i] - START_CHAR + 1; \n",
        "\n",
        "  for(int i = size - 1; i > -1; i--){\n",
        "    pass_decimal += (long long int) pass_b26[i] * my_pow(base, i);\n",
        "  }\n",
        "    \n",
        "  long long max = my_pow(base, size);\n",
        "  \n",
        "  long long start = threadIdx.x + blockIdx.x * blockDim.x;\n",
        "  for (long long idx = start; idx < max; idx += gridDim.x * blockDim.x) {\n",
        "    if (idx > pass_decimal) return;\n",
        "    if(idx == pass_decimal){\n",
        "      int index = 0;\n",
        "      char s[MAXIMUM_PASSWORD];\n",
        "\n",
        "      printf(\"Password in decimal base: %lli\\n\", idx);\n",
        "      while((idx) > 0){\n",
        "        s[index++] = START_CHAR + idx%base-1;\n",
        "        idx /= base;\n",
        "      }\n",
        "      s[index] = '\\0';\n",
        "      printf(\"Found password: %s\\n\", s);\n",
        "      return;\n",
        "    }\n",
        "  }\n",
        "}\n",
        "\n",
        "int main(int argc, char **argv) \n",
        "{\n",
        "  char *password;\n",
        "  time_t t1, t2;\n",
        "  double dif;\n",
        "\n",
        "  checkCuda(cudaMallocManaged(&password, sizeof(char) * MAXIMUM_PASSWORD));\n",
        "\n",
        "  cudaError_t syncErr, asyncErr;\n",
        "\n",
        "  strcpy(password, argv[1]);\n",
        "  int size = strlen(password);\n",
        "\n",
        "  int deviceId, numberOfSMs;\n",
        "  cudaGetDevice(&deviceId);\n",
        "  cudaDeviceGetAttribute(&numberOfSMs, cudaDevAttrMultiProcessorCount, deviceId);\n",
        "  int number_of_blocks = numberOfSMs * 32;\n",
        "  int threads_per_block = 1024;\n",
        "\n",
        "  printf(\"Try to broke the password: %s\\n\", password);\n",
        "\n",
        "  time (&t1);\n",
        "  bruteForce<<<number_of_blocks, threads_per_block>>>(password, size);\n",
        "  syncErr = cudaGetLastError();\n",
        "  asyncErr = cudaDeviceSynchronize();\n",
        "  time (&t2);\n",
        "\n",
        "  if (syncErr != cudaSuccess)\n",
        "      printf(\"Error: %s\\n\", cudaGetErrorString(syncErr));\n",
        "  if (asyncErr != cudaSuccess)\n",
        "      printf(\"Error: %s\\n\", cudaGetErrorString(asyncErr));\n",
        "  \n",
        "  dif = difftime (t2, t1);\n",
        "\n",
        "  printf(\"\\n%1.2f seconds\\n\", dif);\n",
        "  cudaFree(password);\n",
        "\n",
        "  return 0;\n",
        "}"
      ]
    },
    {
      "cell_type": "code",
      "execution_count": null,
      "metadata": {
        "id": "N8xd1Jl0D9IF"
      },
      "outputs": [],
      "source": [
        "!chmod 777 bruteForce-cuda.cu"
      ]
    },
    {
      "cell_type": "code",
      "execution_count": null,
      "metadata": {
        "colab": {
          "base_uri": "https://localhost:8080/"
        },
        "id": "FerBhpFMDqF6",
        "outputId": "1488663b-7f10-4fa5-b2b2-f53357dfdec1"
      },
      "outputs": [
        {
          "name": "stdout",
          "output_type": "stream",
          "text": [
            "bruteForce-cuda.cu(39): warning: variable \"force\" was set but never used\n",
            "\n",
            "bruteForce-cuda.cu(40): warning: variable \"palavra\" was declared but never referenced\n",
            "\n"
          ]
        }
      ],
      "source": [
        "!nvcc bruteForce-cuda.cu -o bruteForce-cuda -x cu "
      ]
    },
    {
      "cell_type": "code",
      "execution_count": null,
      "metadata": {
        "colab": {
          "background_save": true,
          "base_uri": "https://localhost:8080/"
        },
        "id": "ondPv1y8XuMR",
        "outputId": "ebb1122d-e8ac-4bff-e532-00ce60311596"
      },
      "outputs": [
        {
          "name": "stdout",
          "output_type": "stream",
          "text": [
            "Try to broke the password: zzzzzzzzz\n"
          ]
        }
      ],
      "source": [
        "!./bruteForce-cuda zzzzzzzz"
      ]
    },
    {
      "cell_type": "markdown",
      "metadata": {
        "id": "quCx1lngXuMR"
      },
      "source": [
        "## Análise de Desempenho"
      ]
    },
    {
      "cell_type": "markdown",
      "metadata": {
        "id": "fXZg33VIXuMR"
      },
      "source": [
        "### Parâmetros Ótimos de Execução"
      ]
    },
    {
      "cell_type": "markdown",
      "metadata": {
        "id": "75nkZAnWXuMR"
      },
      "source": [
        "1. OpenMP = 32 Threads\n",
        "2. MPI = 1 nó + 30 Processos\n",
        "3. MPI + OpenMP = 1 nó + 22 Processos + 4 Threads\n",
        "4. CUDA = G1D B1DT1D (80 * 32, 1024)"
      ]
    },
    {
      "cell_type": "markdown",
      "metadata": {
        "id": "IBp_0JRfXuMR"
      },
      "source": [
        "### Tempo de execução em segundos das aplicações"
      ]
    },
    {
      "cell_type": "markdown",
      "metadata": {
        "id": "gpZhs4cF294T"
      },
      "source": [
        "<div align=\"justify\">\n",
        "<p>\n",
        "A fim de comparar os diferentes tempos de execução do código de força bruta, no supercomputador, a senha escolhida foi <code>_Hacka1</code>. Dessa forma, a paralelização com o CUDA apresentou o menor tempo de execução, de 1 segundo, seguida pela implementação com MPI, que durou 16 segundos. Em comparação, o código sequencial realizou a quebra da senha em 136 segundos, enquanto os códigos OpenMP e OpenMPI levaram, respectivamente, 35 e 46 segundos em execução.\n",
        "</p>\n",
        "</div>"
      ]
    },
    {
      "cell_type": "markdown",
      "metadata": {
        "id": "TBod_phFflyJ"
      },
      "source": [
        "<div align=\"center\">\n",
        "\n",
        "<img src=\"https://github.com/AmadoMaria/hands-on-supercomputing-with-parallel-computing/blob/master/Hackathon/results__Hacka1/Time.png?raw=true\" alt=\"Melhor tempo de execução em cada estrutura\" />\n",
        "\n",
        "\n",
        "<i><b>Figura 7</b>: Melhor tempo de execução em cada estrutura</i>\n",
        "\n",
        "</div>\n",
        "\n",
        "\n",
        "\n"
      ]
    },
    {
      "cell_type": "markdown",
      "metadata": {
        "id": "vCYEGrQKeXbL"
      },
      "source": [
        "<div align=\"justify\">\n",
        "<p>\n",
        "A Tabela 1, contém o tempo de execução do algoritmo sequencial e das paralelizações, para diferentes senhas, utilizando os parâmetros obtidos para os melhores speedups na senha de teste (<code>_Hacka1</code>). Vale ressaltar que nessas execuções o intervalo de caracteres foi reduzido - com o início modificado de 97 para 48, visando apenas letras minúsculas. Logo, utilizando o mesmo que foi executado para a senha de teste, o tempo de execução entre as estruturas seria muito maior, pois abrangeria também caracteres especiais e letras maiúsculas, aumentando, consequentemente, muito mais o tamnho do loop principal do algoritmo. \n",
        "\n",
        "<br />\n",
        "<br />\n",
        "\n",
        "Configuração da execução das estruturas de paralelização:\n",
        "\n",
        "*   OpenMP: 32 threads\n",
        "*   MPI: 30 processos\n",
        "*   OpenMPI: 4 threads e 22 processos\n",
        "*   Cuda: 32 blocos\n",
        "\n",
        "<br />\n",
        "\n",
        "Observando esses dados, é possível notar que a paralelização com o CUDA ainda se mostrou a mais eficiente. Contudo, para a cadeia com 9 caracteres, o OpenMP obeteve um tempo de execução menor do que o MPI, o oposto do que ocorreu com a senha teste <code>_Hacka1</code>.\n",
        "\n",
        "</p>\n",
        "</div>"
      ]
    },
    {
      "cell_type": "markdown",
      "metadata": {
        "id": "SosBl4FxXuMS"
      },
      "source": [
        "<div align=\"center\">\n",
        "\n",
        "**Tabela 1**: Tempos de execução em segundos obtidos para cada senha em cada estrutura\n",
        "\n",
        "|  Senha    | Sequencial |  OpenMP    | MPI     | Híbrido       | CUDA\n",
        "| --------- |  :------:  |  :------: | :------:  | :------:    | :------:\n",
        "| (5z) zzzzz | 0 | 0 | 0 | 0 | 0\n",
        "| (6z) zzzzzz | 0 | 0 | 0 | 0 | 0\n",
        "| (7z) zzzzzzz |2        | 0           | 0     |  0             | 0  \n",
        "| (8z) zzzzzzzz  | 75      | 6           | 5     |10               | 0  \n",
        "| (9z) zzzzzzzzz   | 1998     | 144           | 152     | 269               | 8\n",
        "\n",
        "</div>"
      ]
    },
    {
      "cell_type": "markdown",
      "metadata": {
        "id": "Nq-uwA8MXuMS"
      },
      "source": [
        "### Speedup"
      ]
    },
    {
      "cell_type": "code",
      "source": [],
      "metadata": {
        "id": "EnpVpWNPEs4N"
      },
      "execution_count": null,
      "outputs": []
    },
    {
      "cell_type": "markdown",
      "metadata": {
        "id": "DcN-g_fJjz6Z"
      },
      "source": [
        "<div align=\"justify\">\n",
        "<p>\n",
        "Como a paralelização com o CUDA foi a mais rápida, consequentemente, obteve o melhor speedup, com uma execução 136 vezes mais rápida do que que o código sequencial. No gráfico apresentado na Figura 8, também é possível verificar que o segundo maior speedup foi de 8x, com o MPI. Já o OpenMP e OpenMPI, apresentaram os piores resultados em comparação aos outros, entretanto, seus speedups ainda conseguiram ser maiores do que 2x, com speedups de 3x e 4x, respectivamente.\n",
        "<p>\n",
        "</div>"
      ]
    },
    {
      "cell_type": "markdown",
      "metadata": {
        "id": "ckIpj0D2ghgT"
      },
      "source": [
        "<div align=\"center\">\n",
        "<img src=\"https://github.com/AmadoMaria/hands-on-supercomputing-with-parallel-computing/blob/master/Hackathon/results__Hacka1/Speedups.png?raw=true\" alt=\"Melhores speedups encontrados em cada estrutura\" />\n",
        "\n",
        "<i><b>Figura 8</b>: Melhor speedup encontrado em cada estrutura.</i>\n",
        "\n",
        "</div>\n",
        "\n",
        "\n",
        "\n",
        "\n",
        "\n"
      ]
    },
    {
      "cell_type": "markdown",
      "metadata": {
        "id": "2U-KSON3gwzb"
      },
      "source": [
        "A Tabela 2, contruída com base na tabela dos tempos de execução, mostra os speedups obtidos para cadeias de diferentes tamanhos utilizando os parâmetros para os melhores speedups em cada estrutura para a senha de teste (<code>_Hacka1</code>)."
      ]
    },
    {
      "cell_type": "markdown",
      "metadata": {
        "id": "n9Iv1ZSsXuMS"
      },
      "source": [
        "<div align=\"center\">\n",
        "\n",
        "**Tabela 2**: Speedups obtidos em cada estrutura para cada senha.\n",
        "\n",
        "|  Senha    |  OpenMP    | MPI     | Híbrido       | CUDA\n",
        "| --------- | :------:   | :------:  | :------:     | :------:\n",
        "| (5z) zzzzz | -          |  -       | -             |  -\n",
        "| (6z) zzzzzz | -          |  -       | -              |  -\n",
        "| (7z) zzzzzzz   |  $$\\infty $$          |   $$\\infty $$       |  $$\\infty $$              |   $$\\infty $$\n",
        "| (8z) zzzzzzzz        | 12,5x           |  15x       | 7,5x              |  $$\\infty $$  \n",
        "| (9z) zzzzzzzzz        | 13,9x           |  13,2x       | 7,4x              | 249,8x \n",
        "\n",
        "</div>"
      ]
    },
    {
      "cell_type": "markdown",
      "metadata": {
        "id": "DjGr9n9DXuMS"
      },
      "source": [
        "## Conclusões"
      ]
    },
    {
      "cell_type": "markdown",
      "metadata": {
        "id": "s1-fPnh9XuMS"
      },
      "source": [
        "<div align=\"justify\">\n",
        "<p>\n",
        "Durante o hackathon, foi possível comparar a implementação e desempenho de diferentes técnicas de paralelização, com a finalidade de otimizar um algoritmo de força bruta. A fim comparar os tempos de execução dos códigos, a senha \"_Hacka1\", foi a escolhida para realização das quebras. Assim, a implementação que se mostrou mais eficiente foi a do código CUDA, com um speedup de 136x. Nessa estrutura, utilizamos um \"<i>grid-stride loop</i>\" para possibilitar a quebra de senhas de qualquer tamanho, independentemente do número de threads e blocos configurados. Já as paralelizações com OpenMP e OpenMPI foram as mais lentas com speedups de 4x e 3x, enquanto o código MPI obteve um speedup de até 8x. Dessa forma, percebemos que o CUDA foi a ferramenta que proporcionou o melhor uso dos recursos do supercomputador, evidenciando os benefícios da computação em GPU.\n",
        "\n",
        "</p>\n",
        "</div>\n"
      ]
    },
    {
      "cell_type": "markdown",
      "metadata": {
        "id": "xxbYlZjHXuMT"
      },
      "source": [
        "## Referências Biliográficas"
      ]
    },
    {
      "cell_type": "markdown",
      "metadata": {
        "id": "cAGbFA4_XuMT"
      },
      "source": [
        "G. Coulouris, J. Dollimore, T. Kindberg, G.Blair. Distributed Systems: Concepts and Design, Fifth Edition, Pearson, 2011.\n",
        "\n",
        "S.Tanenbaum, M. Steen, Distributed Systems: Principles and Paradigms, Second Edition, Pearson, 2006.\n",
        "\n",
        "David A. Patterson and John L. Hennessy. Computer Orga- nization and Design: The Hardware/Software Interface. Morgan Kaufmann, 5th Edition, 2013.\n",
        "\n",
        "An Introduction to Parallel Programming by Peter S. Pache- co. Morgan Kauffman.\n",
        "\n",
        "W. C. Barbosa, An introduction to distributed algorithms, MIT Press, 1997. N. Lynch, Distributed Algorithms, Mit Press, 1996 e Introduction to Distributed Algorithms, Gerard Tel, Cabri- bridge U. Press, 1994.\n"
      ]
    }
  ],
  "metadata": {
    "accelerator": "GPU",
    "colab": {
      "provenance": [],
      "collapsed_sections": [
        "C08qhGoRXuMG",
        "iUZx2JpzXuMJ"
      ],
      "include_colab_link": true
    },
    "gpuClass": "standard",
    "kernelspec": {
      "display_name": "Python 3 (ipykernel)",
      "language": "python",
      "name": "python3"
    },
    "language_info": {
      "codemirror_mode": {
        "name": "ipython",
        "version": 3
      },
      "file_extension": ".py",
      "mimetype": "text/x-python",
      "name": "python",
      "nbconvert_exporter": "python",
      "pygments_lexer": "ipython3",
      "version": "3.8.8"
    }
  },
  "nbformat": 4,
  "nbformat_minor": 0
}