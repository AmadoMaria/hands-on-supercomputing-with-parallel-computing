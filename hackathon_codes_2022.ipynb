{
  "cells": [
    {
      "cell_type": "markdown",
      "metadata": {
        "id": "view-in-github",
        "colab_type": "text"
      },
      "source": [
        "<a href=\"https://colab.research.google.com/github/AmadoMaria/hands-on-supercomputing-with-parallel-computing/blob/master/hackathon_codes_2022.ipynb\" target=\"_parent\"><img src=\"https://colab.research.google.com/assets/colab-badge.svg\" alt=\"Open In Colab\"/></a>"
      ]
    },
    {
      "cell_type": "markdown",
      "metadata": {
        "id": "AjiZOjWgXuMF"
      },
      "source": [
        "<div align=\"center\"><h1>HPC / SENAI / Hackathon (2022.2)<br>\n",
        "Brute Force Algorithm </h1></div>"
      ]
    },
    {
      "cell_type": "markdown",
      "metadata": {
        "id": "C08qhGoRXuMG"
      },
      "source": [
        "## Introdução"
      ]
    },
    {
      "cell_type": "markdown",
      "metadata": {
        "id": "vb80s3XJXuMH"
      },
      "source": [
        "As técnicas de paralelismo compreendem em aplicação de estratégias baseadas na utilização de processamento paralelo manipulando diferentes recursos computacionais. Alguma dessas técnicas compreendem a utilização de bibliotecas paralelas como `OpenMP`, `MPI` e `CUDA`. Cada uma dessas bibliotecas consiste na manipulação de recursos computacionais diferentes, podendo ser utilizadas de forma híbrida, a fim da obtenção de máximo desempenho. No OpenMP e CUDA manipulamos *Threads*, enquanto no MPI, *Processos*, sendo de real relevância os impactos destas unidades de processamento frente aos recursos computacionais alocados. \n",
        "\n",
        "A seguir será apresentado um código sequencial para a quebra de senha de até 20 caracteres utilizando um algoritmo de *Força Bruta*. O objetivo básico será inserir técnicas de paralelismo ao código, tal que serão considerados alguns itens nas aplicações finais:\n",
        "\n",
        "* `Análise dos Custos Computacionais das Aplicações Sequênciais e Paralelas`\n",
        "    + Profilling CPU (gprof)\n",
        "    + Profiling GPU (nsys)\n",
        "* `Estudo das Estruturas Algorítmicas das Aplicações Paralelas`\n",
        "    + Modelos Algorítmicos Aplicados\n",
        "    + Características da inserção da API\n",
        "* `Análise de Desempenho`\n",
        "     + Experimentação de Parâmetros Ótimos (Melhores valores de Processos, Threads e Grid Computacional)\n",
        "     + Indices de eficiência (Speedup)"
      ]
    },
    {
      "cell_type": "markdown",
      "metadata": {
        "id": "8qjCnf8RXuMI"
      },
      "source": [
        "## Regras do Hackathon"
      ]
    },
    {
      "cell_type": "markdown",
      "metadata": {
        "id": "2GDkzCNzXuMI"
      },
      "source": [
        "* Os idiomas oficiais desse HPC Hackathon são: inglês e português;\n",
        "\n",
        "* Este ano a competição será em grupos de 2 ou 3 pessoas;\n",
        "\n",
        "* Tópico Principal: Portabilidade e Otimização de Código;\n",
        "    \n",
        "* Os participantes disponibilizarão os resultados através um repositório git pessoal que será configurado pelos participantes e/ou pela ferramenta GOOGLE COLAB;\n",
        "\n",
        "* Além do código modificado, a resolução deve conter scripts de execução automática para obter os Parâmetros Ótimos e os Speedups;\n",
        "\n",
        "* O código produzido será avaliado em 2 pontos: desempenho e speedup;\n",
        "\n",
        "* Os participantes devem codificar e comentar seus códigos;\n",
        "\n",
        "* Os participantes acessarão o supercomputador via ssh com suas contas previamente configuradas;\n",
        "\n",
        "* As habilidades necessárias são: Git, Google Colab, Jupyter Notebook, C, C++, Unix, shell, bash, OpenMP, CUDA, MPI;\n",
        "\n",
        "Boa sorte e boa codificação!"
      ]
    },
    {
      "cell_type": "markdown",
      "metadata": {
        "id": "iUZx2JpzXuMJ"
      },
      "source": [
        "## Código Sequencial "
      ]
    },
    {
      "cell_type": "code",
      "execution_count": null,
      "metadata": {
        "id": "cadzgmZ1XuMJ",
        "colab": {
          "base_uri": "https://localhost:8080/"
        },
        "outputId": "9fb51474-1ba5-4870-a7cc-948d0d7eb7f4"
      },
      "outputs": [
        {
          "output_type": "stream",
          "name": "stdout",
          "text": [
            "Writing bruteForce.c\n"
          ]
        }
      ],
      "source": [
        "%%writefile bruteForce.c\n",
        "\n",
        "#include <stdio.h>\n",
        "#include <stdlib.h>\n",
        "#include <string.h>\n",
        "#include <time.h>\n",
        "#include <math.h>\n",
        "\n",
        "//97 to 122 use only lowercase letters\n",
        "//65 to 90 use only capital letters\n",
        "//48 to 57 use only numbers\n",
        "\n",
        "#define START_CHAR 97\n",
        "#define END_CHAR 122\n",
        "#define MAXIMUM_PASSWORD 20\n",
        "\n",
        "long long my_pow(long long x, int y)\n",
        "{\n",
        "  long long res = 1;\n",
        "  if (y==0)\n",
        "    return res;\n",
        "  else\n",
        "    return x * my_pow(x, y-1);\n",
        "}\n",
        "\n",
        "void bruteForce(char *pass) \n",
        "{\n",
        "  char force[MAXIMUM_PASSWORD];\n",
        "  int palavra[MAXIMUM_PASSWORD];\n",
        "  int pass_b26[MAXIMUM_PASSWORD];\n",
        "    \n",
        "  long long int j;\n",
        "  long long int pass_decimal = 0;\n",
        "  int base = END_CHAR - START_CHAR + 2;\n",
        "\n",
        "  int size = strlen(pass);\n",
        "\n",
        "  for(int i = 0; i < MAXIMUM_PASSWORD; i++)\n",
        "    force[i] = '\\0';\n",
        "\n",
        "  printf(\"Try to broke the password: %s\\n\", pass);\n",
        "\n",
        "  for(int i = 0; i < size; i++)\n",
        "    pass_b26[i] = (int) pass[i] - START_CHAR + 1; \n",
        "\n",
        "  for(int i = size - 1; i > -1; i--)\n",
        "    pass_decimal += (long long int) pass_b26[i] * my_pow(base, i);\n",
        "\n",
        "  long long int max = my_pow(base, size);\n",
        "  char s[MAXIMUM_PASSWORD];\n",
        "\n",
        "  for(j = 0; j < max; j++){\n",
        "    if(j == pass_decimal){\n",
        "      printf(\"Found password!\\n\");\n",
        "      int index = 0;\n",
        "\n",
        "      printf(\"Password in decimal base: %lli\\n\", j);\n",
        "      while(j > 0){\n",
        "        s[index++] = 'a' + j%base-1;\n",
        "        j /= base;\n",
        "      }\n",
        "      s[index] = '\\0';\n",
        "      printf(\"Found password: %s\\n\", s);\n",
        "      break;\n",
        "    }\n",
        "  }\n",
        "\n",
        "}\n",
        "\n",
        "int main(int argc, char **argv) \n",
        "{\n",
        "  char password[MAXIMUM_PASSWORD];\n",
        "  strcpy(password, argv[1]);\n",
        "  time_t t1, t2;\n",
        "  double dif;\n",
        "\n",
        "  time (&t1);\n",
        "    bruteForce(password);\n",
        "  time (&t2);\n",
        "\n",
        "  dif = difftime (t2, t1);\n",
        "\n",
        "  printf(\"\\n%1.2f seconds\\n\", dif);\n",
        "\n",
        "  return 0;\n",
        "}"
      ]
    },
    {
      "cell_type": "code",
      "source": [
        "!chmod 777 bruteForce.c"
      ],
      "metadata": {
        "id": "n7fnJqMl0ruA"
      },
      "execution_count": null,
      "outputs": []
    },
    {
      "cell_type": "code",
      "execution_count": null,
      "metadata": {
        "id": "9Apb_D9oXuML"
      },
      "outputs": [],
      "source": [
        "!gcc bruteForce.c -o bruteForce -std=c99 -O3"
      ]
    },
    {
      "cell_type": "code",
      "execution_count": null,
      "metadata": {
        "id": "2bubB8PHXuML",
        "colab": {
          "base_uri": "https://localhost:8080/"
        },
        "outputId": "10a67032-b881-4b00-b551-98a79660c07b"
      },
      "outputs": [
        {
          "output_type": "stream",
          "name": "stdout",
          "text": [
            "Try to broke the password: senhate\n",
            "Found password!\n",
            "Password in decimal base: 2224779850\n",
            "Found password: senhate\n",
            "\n",
            "1.00 seconds\n"
          ]
        }
      ],
      "source": [
        "!./bruteForce senhate"
      ]
    },
    {
      "cell_type": "markdown",
      "source": [
        "## Análise dos Custos Computacionais da Aplicação Sequencial"
      ],
      "metadata": {
        "id": "LsXVY4l-G_dZ"
      }
    },
    {
      "cell_type": "code",
      "source": [
        "!gcc bruteForce.c -o bruteForce -std=c99 -O3 -pg"
      ],
      "metadata": {
        "id": "NZy3z6w4HFLy"
      },
      "execution_count": null,
      "outputs": []
    },
    {
      "cell_type": "code",
      "source": [
        "!./bruteForce senhate"
      ],
      "metadata": {
        "id": "zElsps2THFtG",
        "colab": {
          "base_uri": "https://localhost:8080/"
        },
        "outputId": "2ed87585-2ab2-46ba-d949-9e4aa24ee88e"
      },
      "execution_count": null,
      "outputs": [
        {
          "output_type": "stream",
          "name": "stdout",
          "text": [
            "Try to broke the password: senhate\n",
            "Found password!\n",
            "Password in decimal base: 2224779850\n",
            "Found password: senhate\n",
            "\n",
            "1.00 seconds\n"
          ]
        }
      ]
    },
    {
      "cell_type": "code",
      "source": [
        "!gprof -b bruteForce gmon.out"
      ],
      "metadata": {
        "id": "Jl_fHfyFHNYC",
        "colab": {
          "base_uri": "https://localhost:8080/"
        },
        "outputId": "2b0e34b8-ba26-4803-fc21-56f7f4c16973"
      },
      "execution_count": null,
      "outputs": [
        {
          "output_type": "stream",
          "name": "stdout",
          "text": [
            "Flat profile:\n",
            "\n",
            "Each sample counts as 0.01 seconds.\n",
            "  %   cumulative   self              self     total           \n",
            " time   seconds   seconds    calls  Ts/call  Ts/call  name    \n",
            "100.17      0.87     0.87                             bruteForce\n"
          ]
        }
      ]
    },
    {
      "cell_type": "markdown",
      "metadata": {
        "id": "BX_v0AlHXuMM"
      },
      "source": [
        "---\n",
        "## Estudo das Estruturas Algorítmicas das Aplicações Paralelas"
      ]
    },
    {
      "cell_type": "markdown",
      "metadata": {
        "id": "WIX4B_chXuMM"
      },
      "source": [
        "### Multicore (OPENMP)"
      ]
    },
    {
      "cell_type": "code",
      "execution_count": null,
      "metadata": {
        "id": "5ZI3dBMKXuMM",
        "colab": {
          "base_uri": "https://localhost:8080/"
        },
        "outputId": "cd86189a-dd5f-4a22-ceea-0727492b5717"
      },
      "outputs": [
        {
          "output_type": "stream",
          "name": "stdout",
          "text": [
            "Overwriting bruteForce-omp.c\n"
          ]
        }
      ],
      "source": [
        "%%writefile bruteForce.c\n",
        "\n",
        "#include <stdio.h>\n",
        "#include <stdlib.h>\n",
        "#include <string.h>\n",
        "#include <time.h>\n",
        "#include <math.h>\n",
        "\n",
        "//97 to 122 use only lowercase letters\n",
        "//65 to 90 use only capital letters\n",
        "//48 to 57 use only numbers\n",
        "\n",
        "#define START_CHAR 97\n",
        "#define END_CHAR 122\n",
        "#define MAXIMUM_PASSWORD 20\n",
        "\n",
        "long long my_pow(long long x, int y)\n",
        "{\n",
        "  long long res = 1;\n",
        "  if (y==0)\n",
        "    return res;\n",
        "  else\n",
        "    return x * my_pow(x, y-1);\n",
        "}\n",
        "\n",
        "void bruteForce(char *pass) \n",
        "{\n",
        "  char force[MAXIMUM_PASSWORD];\n",
        "  int palavra[MAXIMUM_PASSWORD];\n",
        "  int pass_b26[MAXIMUM_PASSWORD];\n",
        "    \n",
        "  long long int j;\n",
        "  long long int pass_decimal = 0;\n",
        "  int base = END_CHAR - START_CHAR + 2;\n",
        "\n",
        "  int size = strlen(pass);\n",
        "\n",
        "  for(int i = 0; i < MAXIMUM_PASSWORD; i++)\n",
        "    force[i] = '\\0';\n",
        "\n",
        "  printf(\"Try to broke the password: %s\\n\", pass);\n",
        "\n",
        "  for(int i = 0; i < size; i++)\n",
        "    pass_b26[i] = (int) pass[i] - START_CHAR + 1; \n",
        "\n",
        "  for(int i = size - 1; i > -1; i--)\n",
        "    pass_decimal += (long long int) pass_b26[i] * my_pow(base, i);\n",
        "\n",
        "  long long int max = my_pow(base, size);\n",
        "  char s[MAXIMUM_PASSWORD];\n",
        "\n",
        "  \n",
        "  for(j = 0; j < max; j++){\n",
        "    if(j == pass_decimal){\n",
        "      printf(\"Found password!\\n\");\n",
        "      int index = 0;\n",
        "\n",
        "      printf(\"Password in decimal base: %lli\\n\", j);\n",
        "      while(j > 0){\n",
        "        s[index++] = 'a' + j%base-1;\n",
        "        j /= base;\n",
        "      }\n",
        "      s[index] = '\\0';\n",
        "      printf(\"Found password: %s\\n\", s);\n",
        "      break;\n",
        "    }\n",
        "  }\n",
        "\n",
        "}\n",
        "\n",
        "int main(int argc, char **argv) \n",
        "{\n",
        "  char password[MAXIMUM_PASSWORD];\n",
        "  strcpy(password, argv[1]);\n",
        "  time_t t1, t2;\n",
        "  double dif;\n",
        "\n",
        "  time (&t1);\n",
        "    bruteForce(password);\n",
        "  time (&t2);\n",
        "\n",
        "  dif = difftime (t2, t1);\n",
        "\n",
        "  printf(\"\\n%1.2f seconds\\n\", dif);\n",
        "\n",
        "  return 0;\n",
        "}"
      ]
    },
    {
      "cell_type": "code",
      "source": [
        "!chmod 777 bruteForce-omp.c"
      ],
      "metadata": {
        "id": "k8uc5rYo0BxG"
      },
      "execution_count": null,
      "outputs": []
    },
    {
      "cell_type": "code",
      "execution_count": null,
      "metadata": {
        "id": "C_OYeGSLXuMN"
      },
      "outputs": [],
      "source": [
        "!gcc bruteForce-omp.c -o bruteForce-omp -fopenmp -std=c99 -O3"
      ]
    },
    {
      "cell_type": "code",
      "execution_count": null,
      "metadata": {
        "id": "Q5W52vBjXuMN",
        "colab": {
          "base_uri": "https://localhost:8080/"
        },
        "outputId": "fb535b9c-018d-4517-ade8-1991b7a30751"
      },
      "outputs": [
        {
          "output_type": "stream",
          "name": "stdout",
          "text": [
            "Try to broke the password: senhate\n",
            "Found password!\n",
            "Password in decimal base: 2224779850\n",
            "Found password: senhate\n",
            "\n",
            "2.00 seconds\n"
          ]
        }
      ],
      "source": [
        "!OMP_NUM_THREADS=16 ./bruteForce-omp senhate"
      ]
    },
    {
      "cell_type": "markdown",
      "metadata": {
        "id": "8Tkq8NdaXuMN"
      },
      "source": [
        "### Multiprocessor (MPI)"
      ]
    },
    {
      "cell_type": "code",
      "execution_count": null,
      "metadata": {
        "id": "RhF-f-uSXuMN"
      },
      "outputs": [],
      "source": [
        "%%writefile buteForce-mpi.c\n",
        "\n",
        "/**\n",
        "TODO\n",
        "*/"
      ]
    },
    {
      "cell_type": "code",
      "execution_count": null,
      "metadata": {
        "id": "yXuUGw3oXuMO"
      },
      "outputs": [],
      "source": [
        "!mpicc bruteForce-mpi.c -o bruteForce-mpi -fopenmp -std=c99 -O3"
      ]
    },
    {
      "cell_type": "code",
      "execution_count": null,
      "metadata": {
        "id": "pesEM9KvXuMO"
      },
      "outputs": [],
      "source": [
        "!mpirun -np 4 ./bruteForce-mpi senhatez"
      ]
    },
    {
      "cell_type": "markdown",
      "metadata": {
        "id": "oNMjYFXXXuMP"
      },
      "source": [
        "### Multiprocessor + Multicore (MPI + OpenMP)"
      ]
    },
    {
      "cell_type": "code",
      "execution_count": null,
      "metadata": {
        "id": "p2jYxiiaXuMP"
      },
      "outputs": [],
      "source": [
        "%%writefile buteForce-mpi+omp.c\n",
        "\n",
        "/**\n",
        "TODO\n",
        "*/"
      ]
    },
    {
      "cell_type": "code",
      "execution_count": null,
      "metadata": {
        "id": "IT5A71GLXuMP"
      },
      "outputs": [],
      "source": [
        "!mpicc bruteForce-mpi+omp.c -o bruteForce-mpi+omp -fopenmp -std=c99 -O3"
      ]
    },
    {
      "cell_type": "code",
      "execution_count": null,
      "metadata": {
        "id": "-dQLwF3eXuMP"
      },
      "outputs": [],
      "source": [
        "!OMP_NUM_THREADS=4 mpirun -np 4 ./bruteForce-mpi+omp senhatez"
      ]
    },
    {
      "cell_type": "markdown",
      "metadata": {
        "id": "catiNczrXuMQ"
      },
      "source": [
        "### GPU (CUDA)"
      ]
    },
    {
      "cell_type": "code",
      "execution_count": null,
      "metadata": {
        "id": "sS4vvmOkXuMQ",
        "colab": {
          "base_uri": "https://localhost:8080/"
        },
        "outputId": "278cf546-bb45-4aa7-8cd4-fac96bc44ee3"
      },
      "outputs": [
        {
          "output_type": "stream",
          "name": "stdout",
          "text": [
            "Writing bruteForce-cuda.cu\n"
          ]
        }
      ],
      "source": [
        "%%writefile bruteForce-cuda.cu\n",
        "\n",
        "#include <stdio.h>\n",
        "#include <stdlib.h>\n",
        "#include <string.h>\n",
        "#include <time.h>\n",
        "#include <math.h>\n",
        "\n",
        "//97 to 122 use only lowercase letters\n",
        "//65 to 90 use only capital letters\n",
        "//48 to 57 use only numbers\n",
        "\n",
        "#define START_CHAR 97\n",
        "#define END_CHAR 122\n",
        "#define MAXIMUM_PASSWORD 20\n",
        "\n",
        "__device__ long long my_pow(long long x, int y)\n",
        "{\n",
        "  long long res = 1;\n",
        "  if (y==0)\n",
        "    return res;\n",
        "  else\n",
        "    return x * my_pow(x, y-1);\n",
        "}\n",
        "\n",
        "__global__ void bruteForce(char *pass, long long size, long long *result) \n",
        "{\n",
        "  char force[MAXIMUM_PASSWORD];\n",
        "  int palavra[MAXIMUM_PASSWORD];\n",
        "  int pass_b26[MAXIMUM_PASSWORD];\n",
        "    \n",
        "  long long int j = threadIdx.x;\n",
        "  long long int pass_decimal = 0;\n",
        "  int base = END_CHAR - START_CHAR + 2;\n",
        "\n",
        "  for(int i = 0; i < MAXIMUM_PASSWORD; i++)\n",
        "    force[i] = '\\0';\n",
        "\n",
        "  printf(\"Try to broke the password: %s\\n\", pass);\n",
        "\n",
        "  for(int i = 0; i < size; i++)\n",
        "    pass_b26[i] = (int) pass[i] - START_CHAR + 1; \n",
        "\n",
        "  for(int i = size - 1; i > -1; i--)\n",
        "    pass_decimal += (long long int) pass_b26[i] * my_pow(base, i);\n",
        "\n",
        "  long long int max = my_pow(base, size);\n",
        "\n",
        "  if(j < max){\n",
        "    if(j == pass_decimal){\n",
        "      *result = j;\n",
        "    }\n",
        "  }\n",
        "\n",
        "}\n",
        "\n",
        "int main(int argc, char **argv) \n",
        "{\n",
        "  char password[MAXIMUM_PASSWORD];\n",
        "  strcpy(password, argv[1]);\n",
        "  time_t t1, t2;\n",
        "  double dif;\n",
        "  int size = strlen(password);\n",
        "  long long int *result;\n",
        "\n",
        "  cudaMallocManaged(&result, sizeof(long long int));\n",
        "\n",
        "  int NUMBER_OF_BLOCKS = 1;\n",
        "  int NUMBER_OF_THREADS_PER_BLOCK = size;\n",
        "\n",
        "  time (&t1);\n",
        "    bruteForce<<<NUMBER_OF_BLOCKS, NUMBER_OF_THREADS_PER_BLOCK>>>(password, size, result);\n",
        "    cudaDeviceSynchronize();\n",
        "  time (&t2);\n",
        "\n",
        "  \n",
        "  printf(\"Found password!\\n\");\n",
        "  int index = 0;\n",
        "  char s[MAXIMUM_PASSWORD];\n",
        "  int base = END_CHAR - START_CHAR + 2;\n",
        "\n",
        "  printf(\"Password in decimal base: %lli\\n\", *result);\n",
        "  while(*result > 0){\n",
        "    s[index++] = 'a' + *result%base-1;\n",
        "    *result /= base;\n",
        "  }\n",
        "  s[index] = '\\0';\n",
        "  printf(\"Found password: %s\\n\", s);\n",
        "\n",
        "  dif = difftime (t2, t1);\n",
        "\n",
        "  printf(\"\\n%1.2f seconds\\n\", dif);\n",
        "  cudaFree(result);\n",
        "\n",
        "  return 0;\n",
        "}"
      ]
    },
    {
      "cell_type": "code",
      "source": [
        "%%writefile bruteForce-cuda.cu\n",
        "\n",
        "#include <stdio.h>\n",
        "#include <stdlib.h>\n",
        "#include <string.h>\n",
        "#include <time.h>\n",
        "#include <math.h>\n",
        "\n",
        "//97 to 122 use only lowercase letters\n",
        "//65 to 90 use only capital letters\n",
        "//48 to 57 use only numbers\n",
        "\n",
        "#define START_CHAR 97\n",
        "#define END_CHAR 122\n",
        "#define MAXIMUM_PASSWORD 20\n",
        "\n",
        "long long my_pow(long long x, int y)\n",
        "{\n",
        "  long long res = 1;\n",
        "  if (y==0)\n",
        "    return res;\n",
        "  else\n",
        "    return x * my_pow(x, y-1);\n",
        "}\n",
        "\n",
        "__global__ void bruteForceLoop(long long max, long long pass_decimal, long long *result){\n",
        "  long long int j = threadIdx.x;\n",
        "  int base = END_CHAR - START_CHAR + 2;\n",
        "  char s[MAXIMUM_PASSWORD];\n",
        "  \n",
        "  if(j < max){\n",
        "    if(j == pass_decimal){\n",
        "      *result = j;\n",
        "    }\n",
        "  }\n",
        "}\n",
        "\n",
        "\n",
        "void bruteForce(char *pass) \n",
        "{\n",
        "  char force[MAXIMUM_PASSWORD];\n",
        "  int palavra[MAXIMUM_PASSWORD];\n",
        "  int pass_b26[MAXIMUM_PASSWORD];\n",
        "  int size = strlen(pass);  \n",
        "  \n",
        "  long long int j = threadIdx.x;\n",
        "  long long int pass_decimal = 0;\n",
        "  int base = END_CHAR - START_CHAR + 2;\n",
        "\n",
        "  for(int i = 0; i < MAXIMUM_PASSWORD; i++)\n",
        "    force[i] = '\\0';\n",
        "\n",
        "  printf(\"Try to broke the password: %s\\n\", pass);\n",
        "\n",
        "  for(int i = 0; i < size; i++)\n",
        "    pass_b26[i] = (int) pass[i] - START_CHAR + 1; \n",
        "\n",
        "  for(int i = size - 1; i > -1; i--)\n",
        "    pass_decimal += (long long int) pass_b26[i] * my_pow(base, i);\n",
        "\n",
        "  long long int max = my_pow(base, size);\n",
        "  long long int *result;\n",
        "  cudaMallocManaged(&result, sizeof(long long int));\n",
        "\n",
        "  int NUMBER_OF_BLOCKS = 1;\n",
        "  int NUMBER_OF_THREADS_PER_BLOCK = size;\n",
        "\n",
        "  bruteForceLoop<<<NUMBER_OF_BLOCKS, NUMBER_OF_THREADS_PER_BLOCK>>>(max, pass_decimal, result);\n",
        "  cudaDeviceSynchronize();\n",
        "  \n",
        "  printf(\"Found password!\\n\");\n",
        "  int index = 0;\n",
        "  char s[MAXIMUM_PASSWORD];\n",
        "\n",
        "\n",
        "  printf(\"Password in decimal base: %lli\\n\", *result);\n",
        "  while(*result > 0){\n",
        "    s[index++] = 'a' + *result%base-1;\n",
        "    *result /= base;\n",
        "  }\n",
        "  s[index] = '\\0';\n",
        "  printf(\"Found password: %s\\n\", s);\n",
        "\n",
        "  cudaFree(result);\n",
        "}\n",
        "\n",
        "\n",
        "int main(int argc, char **argv) \n",
        "{\n",
        "  char password[MAXIMUM_PASSWORD];\n",
        "  strcpy(password, argv[1]);\n",
        "  time_t t1, t2;\n",
        "  double dif;\n",
        "\n",
        "  time (&t1);\n",
        "    bruteForce(password);\n",
        "  time (&t2);\n",
        "\n",
        "  dif = difftime (t2, t1);\n",
        "\n",
        "  printf(\"\\n%1.2f seconds\\n\", dif);\n",
        "\n",
        "  return 0;\n",
        "}"
      ],
      "metadata": {
        "colab": {
          "base_uri": "https://localhost:8080/"
        },
        "id": "oMiQfLEbp4UU",
        "outputId": "b5034a0d-b962-4f88-a7b4-63ed4ce2fe66"
      },
      "execution_count": null,
      "outputs": [
        {
          "output_type": "stream",
          "name": "stdout",
          "text": [
            "Overwriting bruteForce-cuda.cu\n"
          ]
        }
      ]
    },
    {
      "cell_type": "code",
      "source": [
        "!chmod 777 bruteForce-cuda.cu"
      ],
      "metadata": {
        "id": "N8xd1Jl0D9IF"
      },
      "execution_count": null,
      "outputs": []
    },
    {
      "cell_type": "code",
      "execution_count": null,
      "metadata": {
        "id": "q64RrzHzXuMQ",
        "colab": {
          "base_uri": "https://localhost:8080/"
        },
        "outputId": "dc5d7938-1963-4ea6-ad98-d554c819f2f9"
      },
      "outputs": [
        {
          "output_type": "stream",
          "name": "stdout",
          "text": [
            "nvcc fatal   : Value 'c99' is not defined for option 'std'\n"
          ]
        }
      ],
      "source": [
        "!nvcc bruteForce-cuda.cu -o bruteForce-cuda -std=c99 -O3"
      ]
    },
    {
      "cell_type": "code",
      "source": [
        "!nvcc bruteForce-cuda.cu -o bruteForce-cuda -x cu "
      ],
      "metadata": {
        "colab": {
          "base_uri": "https://localhost:8080/"
        },
        "id": "FerBhpFMDqF6",
        "outputId": "f3d494a0-ac39-479e-cdf1-ed4e7d124d26"
      },
      "execution_count": null,
      "outputs": [
        {
          "output_type": "stream",
          "name": "stdout",
          "text": [
            "bruteForce-cuda.cu(27): warning: variable \"base\" was declared but never referenced\n",
            "\n",
            "bruteForce-cuda.cu(28): warning: variable \"s\" was declared but never referenced\n",
            "\n",
            "bruteForce-cuda.cu(40): warning: variable \"force\" was set but never used\n",
            "\n",
            "bruteForce-cuda.cu(41): warning: variable \"palavra\" was declared but never referenced\n",
            "\n",
            "bruteForce-cuda.cu(45): warning: variable \"j\" was declared but never referenced\n",
            "\n",
            "/tmp/tmpxft_000000c9_00000000-11_bruteForce-cuda.o: In function `bruteForce(char*)':\n",
            "tmpxft_000000c9_00000000-6_bruteForce-cuda.cudafe1.cpp:(.text+0x8d): undefined reference to `__device_builtin_variable_threadIdx'\n",
            "collect2: error: ld returned 1 exit status\n"
          ]
        }
      ]
    },
    {
      "cell_type": "code",
      "execution_count": null,
      "metadata": {
        "id": "ondPv1y8XuMR",
        "colab": {
          "base_uri": "https://localhost:8080/"
        },
        "outputId": "b976d520-7c9c-4a65-a4f7-b719a8f71b49"
      },
      "outputs": [
        {
          "output_type": "stream",
          "name": "stdout",
          "text": [
            "Found password!\n",
            "Password in decimal base: 0\n",
            "Found password: \n",
            "\n",
            "0.00 seconds\n"
          ]
        }
      ],
      "source": [
        "!./bruteForce-cuda senhatez"
      ]
    },
    {
      "cell_type": "markdown",
      "metadata": {
        "id": "quCx1lngXuMR"
      },
      "source": [
        "## Análise de Desempenho"
      ]
    },
    {
      "cell_type": "markdown",
      "metadata": {
        "id": "fXZg33VIXuMR"
      },
      "source": [
        "### Parâmetros Ótimos de Execução"
      ]
    },
    {
      "cell_type": "markdown",
      "metadata": {
        "tags": [],
        "id": "75nkZAnWXuMR"
      },
      "source": [
        "1. OpenMP = 72 Threads\n",
        "2. MPI = 10 nós + 36 Processos\n",
        "3. MPI + OpenMP = 10 nós + 36 Processos + 4 Threads\n",
        "4. CUDA = G1D B1DT1D (80 * 32, 1024)"
      ]
    },
    {
      "cell_type": "markdown",
      "metadata": {
        "id": "IBp_0JRfXuMR"
      },
      "source": [
        "### Tempo de execução em segundos das aplicações"
      ]
    },
    {
      "cell_type": "markdown",
      "metadata": {
        "id": "SosBl4FxXuMS"
      },
      "source": [
        "|  Senha (Entradas)    | Sequencial | OpenMP | MPI  | Híbrido | CUDA\n",
        "| ---------------------| ---------- | ------ | ---  | ------- | ----\n",
        "| (7z)  zzzzzzz                     |        |        |      |         |  \n",
        "| (8z)  zzzzzzzz                    |        |        |      |         | \n",
        "| (9z)  zzzzzzzzz                   |        |        |      |         | \n",
        "| (10z) zzzzzzzzzz                  |        |        |      |         | "
      ]
    },
    {
      "cell_type": "markdown",
      "metadata": {
        "tags": [],
        "id": "Nq-uwA8MXuMS"
      },
      "source": [
        "### Speedup"
      ]
    },
    {
      "cell_type": "markdown",
      "metadata": {
        "id": "n9Iv1ZSsXuMS"
      },
      "source": [
        "|  Senha    |  OpenMP    | MPI     | Híbrido       | CUDA\n",
        "| --------- |  ------    | ------  | -------       | ----\n",
        "| (7z) zzzzzzz        |            |         |               |  \n",
        "| (8z) zzzzzzzz        |            |         |               |   \n",
        "| (9z) zzzzzzzzz        |            |         |               |  \n",
        "| (10z) zzzzzzzzzz       |            |         |               |  "
      ]
    },
    {
      "cell_type": "markdown",
      "metadata": {
        "id": "DjGr9n9DXuMS"
      },
      "source": [
        "## Conclusões"
      ]
    },
    {
      "cell_type": "markdown",
      "metadata": {
        "id": "s1-fPnh9XuMS"
      },
      "source": [
        "Lorem ipsum dolor sit amet, consectetur adipiscing elit, sed do eiusmod tempor incididunt ut labore et dolore magna aliqua. Ut enim ad minim veniam, quis nostrud exercitation ullamco laboris nisi ut aliquip ex ea commodo consequat. Duis aute irure dolor in reprehenderit in voluptate velit esse cillum dolore eu fugiat nulla pariatur. Excepteur sint occaecat cupidatat non proident, sunt in culpa qui officia deserunt mollit anim id est laborum."
      ]
    },
    {
      "cell_type": "markdown",
      "metadata": {
        "id": "xxbYlZjHXuMT"
      },
      "source": [
        "## Referências Biliográficas"
      ]
    },
    {
      "cell_type": "markdown",
      "metadata": {
        "id": "cAGbFA4_XuMT"
      },
      "source": [
        "* G. Coulouris, J. Dollimore, T. Kindberg, G.Blair. Distributed Systems: Concepts and Design, Fifth Edition, Pearson, 2011.\n",
        "\n",
        "* S.Tanenbaum, M. Steen, Distributed Systems: Principles and Paradigms, Second Edition, Pearson, 2006.\n",
        "\n",
        "* David A. Patterson and John L. Hennessy. Computer Orga- nization and Design: The Hardware/Software Interface. Morgan Kaufmann, 5th Edition, 2013.\n",
        "\n",
        "* An Introduction to Parallel Programming by Peter S. Pache- co. Morgan Kauffman.\n",
        "\n",
        "* W. C. Barbosa, An introduction to distributed algorithms, MIT Press, 1997. N. Lynch, Distributed Algorithms, Mit Press, 1996 e Introduction to Distributed Algorithms, Gerard Tel, Cabri- bridge U. Press, 1994.\n"
      ]
    }
  ],
  "metadata": {
    "kernelspec": {
      "display_name": "Python 3 (ipykernel)",
      "language": "python",
      "name": "python3"
    },
    "language_info": {
      "codemirror_mode": {
        "name": "ipython",
        "version": 3
      },
      "file_extension": ".py",
      "mimetype": "text/x-python",
      "name": "python",
      "nbconvert_exporter": "python",
      "pygments_lexer": "ipython3",
      "version": "3.8.8"
    },
    "colab": {
      "provenance": [],
      "collapsed_sections": [],
      "include_colab_link": true
    },
    "accelerator": "GPU",
    "gpuClass": "standard"
  },
  "nbformat": 4,
  "nbformat_minor": 0
}